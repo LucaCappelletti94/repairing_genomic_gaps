{
 "cells": [
  {
   "cell_type": "code",
   "execution_count": 1,
   "metadata": {},
   "outputs": [],
   "source": [
    "from ucsc_genomes_downloader import Genome\n",
    "from ucsc_genomes_downloader.utils import get_available_genomes\n",
    "from tqdm.auto import tqdm"
   ]
  },
  {
   "cell_type": "code",
   "execution_count": 2,
   "metadata": {},
   "outputs": [],
   "source": [
    "genomes = get_available_genomes()"
   ]
  },
  {
   "cell_type": "code",
   "execution_count": 7,
   "metadata": {},
   "outputs": [
    {
     "data": {
      "text/plain": [
       "['ailMel1',\n",
       " 'allMis1',\n",
       " 'anoCar1',\n",
       " 'anoCar2',\n",
       " 'anoGam1',\n",
       " 'anoGam3',\n",
       " 'apiMel1',\n",
       " 'apiMel2',\n",
       " 'aplCal1',\n",
       " 'aptMan1',\n",
       " 'aquChr2',\n",
       " 'balAcu1',\n",
       " 'bisBis1',\n",
       " 'bosTau2',\n",
       " 'bosTau3',\n",
       " 'bosTau4',\n",
       " 'bosTau6',\n",
       " 'bosTau7',\n",
       " 'bosTau8',\n",
       " 'bosTau9',\n",
       " 'braFlo1',\n",
       " 'caeJap1',\n",
       " 'caePb1',\n",
       " 'caePb2',\n",
       " 'caeRem2',\n",
       " 'caeRem3',\n",
       " 'calJac1',\n",
       " 'calJac3',\n",
       " 'calMil1',\n",
       " 'canFam1',\n",
       " 'canFam2',\n",
       " 'canFam3',\n",
       " 'cavPor3',\n",
       " 'cb1',\n",
       " 'cb3',\n",
       " 'ce10',\n",
       " 'ce11',\n",
       " 'ce2',\n",
       " 'ce4',\n",
       " 'ce6',\n",
       " 'cerSim1',\n",
       " 'chlSab2',\n",
       " 'choHof1',\n",
       " 'chrPic1',\n",
       " 'ci1',\n",
       " 'ci2',\n",
       " 'ci3',\n",
       " 'criGri1',\n",
       " 'criGriChoV1',\n",
       " 'criGriChoV2',\n",
       " 'danRer10',\n",
       " 'danRer11',\n",
       " 'danRer3',\n",
       " 'danRer4',\n",
       " 'danRer5',\n",
       " 'danRer6',\n",
       " 'danRer7',\n",
       " 'dasNov3',\n",
       " 'dipOrd1',\n",
       " 'dm1',\n",
       " 'dm2',\n",
       " 'dm3',\n",
       " 'dm6',\n",
       " 'dp2',\n",
       " 'dp3',\n",
       " 'droAna1',\n",
       " 'droAna2',\n",
       " 'droEre1',\n",
       " 'droGri1',\n",
       " 'droMoj1',\n",
       " 'droMoj2',\n",
       " 'droPer1',\n",
       " 'droSec1',\n",
       " 'droSim1',\n",
       " 'droVir1',\n",
       " 'droVir2',\n",
       " 'droYak1',\n",
       " 'droYak2',\n",
       " 'eboVir3',\n",
       " 'echTel1',\n",
       " 'echTel2',\n",
       " 'equCab1',\n",
       " 'equCab2',\n",
       " 'equCab3',\n",
       " 'eriEur1',\n",
       " 'eriEur2',\n",
       " 'felCat3',\n",
       " 'felCat4',\n",
       " 'felCat5',\n",
       " 'felCat8',\n",
       " 'felCat9',\n",
       " 'fr1',\n",
       " 'fr2',\n",
       " 'fr3',\n",
       " 'gadMor1',\n",
       " 'galGal2',\n",
       " 'galGal3',\n",
       " 'galGal4',\n",
       " 'galGal5',\n",
       " 'galGal6',\n",
       " 'galVar1',\n",
       " 'gasAcu1',\n",
       " 'geoFor1',\n",
       " 'gorGor3',\n",
       " 'gorGor4',\n",
       " 'gorGor5',\n",
       " 'hetGla1',\n",
       " 'hetGla2',\n",
       " 'hg16',\n",
       " 'hg17',\n",
       " 'hg18',\n",
       " 'hg19',\n",
       " 'hg38',\n",
       " 'latCha1',\n",
       " 'loxAfr3',\n",
       " 'macEug2',\n",
       " 'macFas5',\n",
       " 'manPen1',\n",
       " 'melGal1',\n",
       " 'melGal5',\n",
       " 'melUnd1',\n",
       " 'micMur1',\n",
       " 'micMur2',\n",
       " 'mm10',\n",
       " 'mm7',\n",
       " 'mm8',\n",
       " 'mm9',\n",
       " 'monDom1',\n",
       " 'monDom4',\n",
       " 'monDom5',\n",
       " 'musFur1',\n",
       " 'myoLuc2',\n",
       " 'nanPar1',\n",
       " 'nasLar1',\n",
       " 'nomLeu1',\n",
       " 'nomLeu2',\n",
       " 'nomLeu3',\n",
       " 'ochPri2',\n",
       " 'ochPri3',\n",
       " 'oreNil2',\n",
       " 'ornAna1',\n",
       " 'ornAna2',\n",
       " 'oryCun2',\n",
       " 'oryLat2',\n",
       " 'otoGar3',\n",
       " 'oviAri1',\n",
       " 'oviAri3',\n",
       " 'oviAri4',\n",
       " 'panPan1',\n",
       " 'panPan2',\n",
       " 'panTro1',\n",
       " 'panTro2',\n",
       " 'panTro3',\n",
       " 'panTro4',\n",
       " 'panTro5',\n",
       " 'panTro6',\n",
       " 'papAnu2',\n",
       " 'papAnu4',\n",
       " 'papHam1',\n",
       " 'petMar1',\n",
       " 'petMar2',\n",
       " 'petMar3',\n",
       " 'ponAbe2',\n",
       " 'ponAbe3',\n",
       " 'priPac1',\n",
       " 'proCap1',\n",
       " 'pteVam1',\n",
       " 'rheMac10',\n",
       " 'rheMac2',\n",
       " 'rheMac3',\n",
       " 'rheMac8',\n",
       " 'rhiRox1',\n",
       " 'rn3',\n",
       " 'rn4',\n",
       " 'rn5',\n",
       " 'rn6',\n",
       " 'sacCer1',\n",
       " 'sacCer2',\n",
       " 'sacCer3',\n",
       " 'saiBol1',\n",
       " 'sarHar1',\n",
       " 'sorAra1',\n",
       " 'sorAra2',\n",
       " 'speTri2',\n",
       " 'strPur1',\n",
       " 'strPur2',\n",
       " 'susScr11',\n",
       " 'susScr2',\n",
       " 'susScr3',\n",
       " 'taeGut1',\n",
       " 'taeGut2',\n",
       " 'tarSyr1',\n",
       " 'tarSyr2',\n",
       " 'tetNig1',\n",
       " 'tetNig2',\n",
       " 'thaSir1',\n",
       " 'triMan1',\n",
       " 'tupBel1',\n",
       " 'turTru2',\n",
       " 'vicPac1',\n",
       " 'vicPac2',\n",
       " 'xenLae2',\n",
       " 'xenTro1',\n",
       " 'xenTro2',\n",
       " 'xenTro3',\n",
       " 'xenTro7',\n",
       " 'xenTro9']"
      ]
     },
     "execution_count": 7,
     "metadata": {},
     "output_type": "execute_result"
    }
   ],
   "source": [
    "sorted(list(genomes.keys()))"
   ]
  },
  {
   "cell_type": "code",
   "execution_count": 8,
   "metadata": {},
   "outputs": [],
   "source": [
    "assemblies = [\n",
    "    \"hg19\", \"hg38\", \"mm9\", \"mm10\", \"rn5\", \"rn6\", \"felCat8\", \"felCat9\", \"bosTau8\", \"bosTau9\",\n",
    "    \"panTro5\", \"panTro6\"\n",
    "]"
   ]
  },
  {
   "cell_type": "code",
   "execution_count": 10,
   "metadata": {},
   "outputs": [
    {
     "data": {
      "application/vnd.jupyter.widget-view+json": {
       "model_id": "d93cac2d81924b68922428f026404336",
       "version_major": 2,
       "version_minor": 0
      },
      "text/plain": [
       "HBox(children=(IntProgress(value=0, max=8), HTML(value='')))"
      ]
     },
     "metadata": {},
     "output_type": "display_data"
    },
    {
     "name": "stdout",
     "output_type": "stream",
     "text": [
      "\n"
     ]
    },
    {
     "data": {
      "application/vnd.jupyter.widget-view+json": {
       "model_id": "",
       "version_major": 2,
       "version_minor": 0
      },
      "text/plain": [
       "HBox(children=(IntProgress(value=0, description='Loading chromosomes for genome hg19', layout=Layout(flex='2')…"
      ]
     },
     "metadata": {},
     "output_type": "display_data"
    },
    {
     "data": {
      "application/vnd.jupyter.widget-view+json": {
       "model_id": "",
       "version_major": 2,
       "version_minor": 0
      },
      "text/plain": [
       "HBox(children=(IntProgress(value=0, description='Rendering gaps in hg19', layout=Layout(flex='2'), max=25, sty…"
      ]
     },
     "metadata": {},
     "output_type": "display_data"
    },
    {
     "name": "stdout",
     "output_type": "stream",
     "text": [
      "hg19 51\n"
     ]
    },
    {
     "data": {
      "application/vnd.jupyter.widget-view+json": {
       "model_id": "",
       "version_major": 2,
       "version_minor": 0
      },
      "text/plain": [
       "HBox(children=(IntProgress(value=0, description='Loading chromosomes for genome hg38', layout=Layout(flex='2')…"
      ]
     },
     "metadata": {},
     "output_type": "display_data"
    },
    {
     "data": {
      "application/vnd.jupyter.widget-view+json": {
       "model_id": "",
       "version_major": 2,
       "version_minor": 0
      },
      "text/plain": [
       "HBox(children=(IntProgress(value=0, description='Rendering gaps in hg38', layout=Layout(flex='2'), max=25, sty…"
      ]
     },
     "metadata": {},
     "output_type": "display_data"
    },
    {
     "name": "stdout",
     "output_type": "stream",
     "text": [
      "hg38 235\n"
     ]
    },
    {
     "data": {
      "application/vnd.jupyter.widget-view+json": {
       "model_id": "",
       "version_major": 2,
       "version_minor": 0
      },
      "text/plain": [
       "HBox(children=(IntProgress(value=0, description='Loading chromosomes for genome mm9', layout=Layout(flex='2'),…"
      ]
     },
     "metadata": {},
     "output_type": "display_data"
    },
    {
     "data": {
      "application/vnd.jupyter.widget-view+json": {
       "model_id": "",
       "version_major": 2,
       "version_minor": 0
      },
      "text/plain": [
       "HBox(children=(IntProgress(value=0, description='Rendering gaps in mm9', layout=Layout(flex='2'), max=22, styl…"
      ]
     },
     "metadata": {},
     "output_type": "display_data"
    },
    {
     "name": "stdout",
     "output_type": "stream",
     "text": [
      "mm9 80\n"
     ]
    },
    {
     "data": {
      "application/vnd.jupyter.widget-view+json": {
       "model_id": "",
       "version_major": 2,
       "version_minor": 0
      },
      "text/plain": [
       "HBox(children=(IntProgress(value=0, description='Loading chromosomes for genome mm10', layout=Layout(flex='2')…"
      ]
     },
     "metadata": {},
     "output_type": "display_data"
    },
    {
     "data": {
      "application/vnd.jupyter.widget-view+json": {
       "model_id": "",
       "version_major": 2,
       "version_minor": 0
      },
      "text/plain": [
       "HBox(children=(IntProgress(value=0, description='Rendering gaps in mm10', layout=Layout(flex='2'), max=22, sty…"
      ]
     },
     "metadata": {},
     "output_type": "display_data"
    },
    {
     "name": "stdout",
     "output_type": "stream",
     "text": [
      "mm10 50\n"
     ]
    },
    {
     "data": {
      "application/vnd.jupyter.widget-view+json": {
       "model_id": "",
       "version_major": 2,
       "version_minor": 0
      },
      "text/plain": [
       "HBox(children=(IntProgress(value=0, description='Loading chromosomes for genome rn5', layout=Layout(flex='2'),…"
      ]
     },
     "metadata": {},
     "output_type": "display_data"
    },
    {
     "data": {
      "application/vnd.jupyter.widget-view+json": {
       "model_id": "",
       "version_major": 2,
       "version_minor": 0
      },
      "text/plain": [
       "HBox(children=(IntProgress(value=0, description='Rendering gaps in rn5', layout=Layout(flex='2'), max=22, styl…"
      ]
     },
     "metadata": {},
     "output_type": "display_data"
    },
    {
     "name": "stdout",
     "output_type": "stream",
     "text": [
      "rn5 94256\n"
     ]
    },
    {
     "data": {
      "application/vnd.jupyter.widget-view+json": {
       "model_id": "",
       "version_major": 2,
       "version_minor": 0
      },
      "text/plain": [
       "HBox(children=(IntProgress(value=0, description='Loading chromosomes for genome rn6', layout=Layout(flex='2'),…"
      ]
     },
     "metadata": {},
     "output_type": "display_data"
    },
    {
     "data": {
      "application/vnd.jupyter.widget-view+json": {
       "model_id": "",
       "version_major": 2,
       "version_minor": 0
      },
      "text/plain": [
       "HBox(children=(IntProgress(value=0, description='Rendering gaps in rn6', layout=Layout(flex='2'), max=23, styl…"
      ]
     },
     "metadata": {},
     "output_type": "display_data"
    },
    {
     "name": "stdout",
     "output_type": "stream",
     "text": [
      "rn6 56291\n"
     ]
    },
    {
     "data": {
      "application/vnd.jupyter.widget-view+json": {
       "model_id": "",
       "version_major": 2,
       "version_minor": 0
      },
      "text/plain": [
       "HBox(children=(IntProgress(value=0, description='Loading chromosomes for genome felCat8', layout=Layout(flex='…"
      ]
     },
     "metadata": {},
     "output_type": "display_data"
    },
    {
     "data": {
      "application/vnd.jupyter.widget-view+json": {
       "model_id": "",
       "version_major": 2,
       "version_minor": 0
      },
      "text/plain": [
       "HBox(children=(IntProgress(value=0, description='Rendering gaps in felCat8', layout=Layout(flex='2'), max=20, …"
      ]
     },
     "metadata": {},
     "output_type": "display_data"
    },
    {
     "name": "stdout",
     "output_type": "stream",
     "text": [
      "felCat8 5963\n"
     ]
    },
    {
     "data": {
      "application/vnd.jupyter.widget-view+json": {
       "model_id": "",
       "version_major": 2,
       "version_minor": 0
      },
      "text/plain": [
       "HBox(children=(IntProgress(value=0, description='Loading chromosomes for genome felCat9', layout=Layout(flex='…"
      ]
     },
     "metadata": {},
     "output_type": "display_data"
    },
    {
     "data": {
      "application/vnd.jupyter.widget-view+json": {
       "model_id": "",
       "version_major": 2,
       "version_minor": 0
      },
      "text/plain": [
       "HBox(children=(IntProgress(value=0, description='Rendering gaps in felCat9', layout=Layout(flex='2'), max=20, …"
      ]
     },
     "metadata": {},
     "output_type": "display_data"
    },
    {
     "name": "stdout",
     "output_type": "stream",
     "text": [
      "felCat9 33\n",
      "\n"
     ]
    }
   ],
   "source": [
    "for assembly in tqdm(assemblies):\n",
    "    genome = Genome(assembly=assembly, cache_directory=\"/Volumes/Porsche/genomes\")\n",
    "    gaps = genome.gaps()\n",
    "    print(assembly, (gaps.chromEnd - gaps.chromStart<3).sum())"
   ]
  },
  {
   "cell_type": "code",
   "execution_count": null,
   "metadata": {},
   "outputs": [],
   "source": []
  }
 ],
 "metadata": {
  "kernelspec": {
   "display_name": "Python 3",
   "language": "python",
   "name": "python3"
  },
  "language_info": {
   "codemirror_mode": {
    "name": "ipython",
    "version": 3
   },
   "file_extension": ".py",
   "mimetype": "text/x-python",
   "name": "python",
   "nbconvert_exporter": "python",
   "pygments_lexer": "ipython3",
   "version": "3.7.4"
  }
 },
 "nbformat": 4,
 "nbformat_minor": 2
}
