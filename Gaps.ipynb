{
 "cells": [
  {
   "cell_type": "code",
   "execution_count": 1,
   "metadata": {},
   "outputs": [],
   "source": [
    "from repairing_genomic_gaps import build_denoiser, build_dataset\n",
    "import pandas as pd\n",
    "import numpy as np\n",
    "from tqdm.auto import tqdm"
   ]
  },
  {
   "cell_type": "code",
   "execution_count": 2,
   "metadata": {},
   "outputs": [],
   "source": [
    "window_size=200"
   ]
  },
  {
   "cell_type": "code",
   "execution_count": 3,
   "metadata": {},
   "outputs": [
    {
     "name": "stdout",
     "output_type": "stream",
     "text": [
      "Model: \"encoder\"\n",
      "_________________________________________________________________\n",
      "Layer (type)                 Output Shape              Param #   \n",
      "=================================================================\n",
      "encoder_input (InputLayer)   [(None, 200, 4)]          0         \n",
      "_________________________________________________________________\n",
      "reshape (Reshape)            (None, 200, 4, 1)         0         \n",
      "_________________________________________________________________\n",
      "conv2d (Conv2D)              (None, 100, 4, 64)        2368      \n",
      "_________________________________________________________________\n",
      "batch_normalization (BatchNo (None, 100, 4, 64)        256       \n",
      "_________________________________________________________________\n",
      "activation (Activation)      (None, 100, 4, 64)        0         \n",
      "_________________________________________________________________\n",
      "conv2d_1 (Conv2D)            (None, 50, 2, 32)         49184     \n",
      "_________________________________________________________________\n",
      "batch_normalization_1 (Batch (None, 50, 2, 32)         128       \n",
      "_________________________________________________________________\n",
      "activation_1 (Activation)    (None, 50, 2, 32)         0         \n",
      "_________________________________________________________________\n",
      "conv2d_2 (Conv2D)            (None, 25, 1, 16)         3088      \n",
      "_________________________________________________________________\n",
      "batch_normalization_2 (Batch (None, 25, 1, 16)         64        \n",
      "_________________________________________________________________\n",
      "activation_2 (Activation)    (None, 25, 1, 16)         0         \n",
      "_________________________________________________________________\n",
      "conv2d_3 (Conv2D)            (None, 25, 1, 8)          392       \n",
      "_________________________________________________________________\n",
      "batch_normalization_3 (Batch (None, 25, 1, 8)          32        \n",
      "_________________________________________________________________\n",
      "activation_3 (Activation)    (None, 25, 1, 8)          0         \n",
      "_________________________________________________________________\n",
      "flatten (Flatten)            (None, 200)               0         \n",
      "_________________________________________________________________\n",
      "latent_vector (Dense)        (None, 100)               20100     \n",
      "=================================================================\n",
      "Total params: 75,612\n",
      "Trainable params: 75,372\n",
      "Non-trainable params: 240\n",
      "_________________________________________________________________\n",
      "Model: \"decoder\"\n",
      "_________________________________________________________________\n",
      "Layer (type)                 Output Shape              Param #   \n",
      "=================================================================\n",
      "decoder_input (InputLayer)   [(None, 100)]             0         \n",
      "_________________________________________________________________\n",
      "dense (Dense)                (None, 200)               20200     \n",
      "_________________________________________________________________\n",
      "reshape_1 (Reshape)          (None, 25, 1, 8)          0         \n",
      "_________________________________________________________________\n",
      "conv2d_transpose (Conv2DTran (None, 25, 1, 8)          200       \n",
      "_________________________________________________________________\n",
      "batch_normalization_4 (Batch (None, 25, 1, 8)          32        \n",
      "_________________________________________________________________\n",
      "activation_4 (Activation)    (None, 25, 1, 8)          0         \n",
      "_________________________________________________________________\n",
      "conv2d_transpose_1 (Conv2DTr (None, 50, 2, 16)         784       \n",
      "_________________________________________________________________\n",
      "batch_normalization_5 (Batch (None, 50, 2, 16)         64        \n",
      "_________________________________________________________________\n",
      "activation_5 (Activation)    (None, 50, 2, 16)         0         \n",
      "_________________________________________________________________\n",
      "conv2d_transpose_2 (Conv2DTr (None, 100, 4, 32)        12320     \n",
      "_________________________________________________________________\n",
      "batch_normalization_6 (Batch (None, 100, 4, 32)        128       \n",
      "_________________________________________________________________\n",
      "activation_6 (Activation)    (None, 100, 4, 32)        0         \n",
      "_________________________________________________________________\n",
      "conv2d_transpose_3 (Conv2DTr (None, 200, 4, 64)        73792     \n",
      "_________________________________________________________________\n",
      "batch_normalization_7 (Batch (None, 200, 4, 64)        256       \n",
      "_________________________________________________________________\n",
      "activation_7 (Activation)    (None, 200, 4, 64)        0         \n",
      "_________________________________________________________________\n",
      "decoder_output (Conv2DTransp (None, 200, 4, 1)         2305      \n",
      "_________________________________________________________________\n",
      "reshape_2 (Reshape)          (None, 200, 4)            0         \n",
      "=================================================================\n",
      "Total params: 110,081\n",
      "Trainable params: 109,841\n",
      "Non-trainable params: 240\n",
      "_________________________________________________________________\n",
      "Model: \"autoencoder\"\n",
      "_________________________________________________________________\n",
      "Layer (type)                 Output Shape              Param #   \n",
      "=================================================================\n",
      "encoder_input (InputLayer)   [(None, 200, 4)]          0         \n",
      "_________________________________________________________________\n",
      "encoder (Model)              (None, 100)               75612     \n",
      "_________________________________________________________________\n",
      "decoder (Model)              (None, 200, 4)            110081    \n",
      "=================================================================\n",
      "Total params: 185,693\n",
      "Trainable params: 185,213\n",
      "Non-trainable params: 480\n",
      "_________________________________________________________________\n"
     ]
    }
   ],
   "source": [
    "model = build_denoiser(window_size)"
   ]
  },
  {
   "cell_type": "code",
   "execution_count": 4,
   "metadata": {},
   "outputs": [],
   "source": [
    "model.load_weights(\"best_small_model.hdf5\")"
   ]
  },
  {
   "cell_type": "code",
   "execution_count": 5,
   "metadata": {},
   "outputs": [],
   "source": [
    "df = pd.read_csv(\"out_alignment_19_38.txt\", sep=\" \", index_col=0)"
   ]
  },
  {
   "cell_type": "code",
   "execution_count": 6,
   "metadata": {},
   "outputs": [
    {
     "name": "stdout",
     "output_type": "stream",
     "text": [
      "Loading cache at ./cache/build_dataset/195e4115b26c44b488fc638fc4faf33eacdbf73b464f3c0d1d218fe8316a3b08.pkl\n"
     ]
    }
   ],
   "source": [
    "max_gap_size = 3\n",
    "window_size = 200\n",
    "batch_size = 250\n",
    "epochs = 1000\n",
    "\n",
    "train, test = build_dataset(\n",
    "    assembly=\"hg19\",\n",
    "    training_chromosomes=[\n",
    "        \"chr1\", \"chr2\", \"chr3\", \"chr4\", \"chr5\", \"chr6\", \"chr7\", \"chr8\", \"chr9\",\n",
    "        \"chr10\", \"chr11\", \"chr12\", \"chr13\", \"chr14\", \"chr15\", \"chr16\", \"chr19\",\n",
    "        \"chr20\", \"chr21\", \"chr22\", \"chrX\", \"chrY\"\n",
    "    ],\n",
    "    testing_chromosomes=[\n",
    "        \"chr17\",\n",
    "        \"chr18\",\n",
    "        \"chrM\",\n",
    "    ],\n",
    "    max_gap_size=max_gap_size,\n",
    "    window_size=window_size,\n",
    "    gaps_threshold=0.4,\n",
    "    batch_size=batch_size,\n",
    "    seed=42\n",
    ")"
   ]
  },
  {
   "cell_type": "code",
   "execution_count": 24,
   "metadata": {},
   "outputs": [],
   "source": []
  },
  {
   "cell_type": "code",
   "execution_count": 87,
   "metadata": {},
   "outputs": [],
   "source": [
    "from sklearn.metrics import roc_auc_score, average_precision_score, accuracy_score, classification_report, multilabel_confusion_matrix"
   ]
  },
  {
   "cell_type": "code",
   "execution_count": 76,
   "metadata": {},
   "outputs": [],
   "source": [
    "center_mask = np.zeros(200).astype(bool)\n",
    "center_mask[[98, 99, 100, 101, 102]] = True"
   ]
  },
  {
   "cell_type": "code",
   "execution_count": 105,
   "metadata": {
    "scrolled": false
   },
   "outputs": [
    {
     "data": {
      "application/vnd.jupyter.widget-view+json": {
       "model_id": "4681503b51fe49bf84555a343b897ebd",
       "version_major": 2,
       "version_minor": 0
      },
      "text/plain": [
       "HBox(children=(IntProgress(value=0, max=3015), HTML(value='')))"
      ]
     },
     "metadata": {},
     "output_type": "display_data"
    }
   ],
   "source": [
    "data = []\n",
    "\n",
    "for step in tqdm(range(test.steps_per_epoch)):\n",
    "    X, y = test[step]\n",
    "    predictions = model.predict(X)\n",
    "    n_mask = np.logical_not(np.isclose(X, 0.25).all(axis=2))\n",
    "    y_true, y_pred = y[n_mask], predictions[n_mask]\n",
    "    data.append({\n",
    "        \"accuracy\":accuracy_score(y_true.argmax(-1), y_pred.argmax(-1)),\n",
    "        \"auroc\":roc_auc_score(y_true.flatten(), y_pred.flatten()),\n",
    "        \"auprc\":average_precision_score(y_true.flatten(), y_pred.flatten())\n",
    "    })\n",
    "    if step > 100:\n",
    "        break"
   ]
  },
  {
   "cell_type": "code",
   "execution_count": 106,
   "metadata": {},
   "outputs": [
    {
     "data": {
      "text/plain": [
       "accuracy    0.946511\n",
       "auroc       0.996598\n",
       "auprc       0.990919\n",
       "dtype: float64"
      ]
     },
     "execution_count": 106,
     "metadata": {},
     "output_type": "execute_result"
    }
   ],
   "source": [
    "pd.DataFrame(data).mean()"
   ]
  },
  {
   "cell_type": "code",
   "execution_count": null,
   "metadata": {},
   "outputs": [],
   "source": []
  }
 ],
 "metadata": {
  "kernelspec": {
   "display_name": "Python 3",
   "language": "python",
   "name": "python3"
  },
  "language_info": {
   "codemirror_mode": {
    "name": "ipython",
    "version": 3
   },
   "file_extension": ".py",
   "mimetype": "text/x-python",
   "name": "python",
   "nbconvert_exporter": "python",
   "pygments_lexer": "ipython3",
   "version": "3.7.4"
  }
 },
 "nbformat": 4,
 "nbformat_minor": 2
}
