{
 "cells": [
  {
   "cell_type": "code",
   "execution_count": 1,
   "metadata": {},
   "outputs": [],
   "source": [
    "from ucsc_genomes_downloader import Genome"
   ]
  },
  {
   "cell_type": "code",
   "execution_count": 2,
   "metadata": {},
   "outputs": [
    {
     "data": {
      "application/vnd.jupyter.widget-view+json": {
       "model_id": "",
       "version_major": 2,
       "version_minor": 0
      },
      "text/plain": [
       "HBox(children=(FloatProgress(value=0.0, description='Loading chromosomes for genome hg19', layout=Layout(flex=…"
      ]
     },
     "metadata": {},
     "output_type": "display_data"
    },
    {
     "name": "stdout",
     "output_type": "stream",
     "text": [
      "\r"
     ]
    }
   ],
   "source": [
    "hg19 = Genome(\"hg19\", )"
   ]
  },
  {
   "cell_type": "code",
   "execution_count": 3,
   "metadata": {},
   "outputs": [
    {
     "data": {
      "text/plain": [
       "['chr1',\n",
       " 'chrMT',\n",
       " 'chrM',\n",
       " 'chr21',\n",
       " 'chr22',\n",
       " 'chr19',\n",
       " 'chrY',\n",
       " 'chr20',\n",
       " 'chr18',\n",
       " 'chr17',\n",
       " 'chr16',\n",
       " 'chr15',\n",
       " 'chr14',\n",
       " 'chr13',\n",
       " 'chr12',\n",
       " 'chr11',\n",
       " 'chr10',\n",
       " 'chr9',\n",
       " 'chr8',\n",
       " 'chrX',\n",
       " 'chr7',\n",
       " 'chr6',\n",
       " 'chr5',\n",
       " 'chr4',\n",
       " 'chr3',\n",
       " 'chr2']"
      ]
     },
     "execution_count": 3,
     "metadata": {},
     "output_type": "execute_result"
    }
   ],
   "source": [
    "list(hg19)"
   ]
  },
  {
   "cell_type": "code",
   "execution_count": null,
   "metadata": {},
   "outputs": [],
   "source": []
  }
 ],
 "metadata": {
  "kernelspec": {
   "display_name": "Python 3",
   "language": "python",
   "name": "python3"
  },
  "language_info": {
   "codemirror_mode": {
    "name": "ipython",
    "version": 3
   },
   "file_extension": ".py",
   "mimetype": "text/x-python",
   "name": "python",
   "nbconvert_exporter": "python",
   "pygments_lexer": "ipython3",
   "version": "3.6.9"
  }
 },
 "nbformat": 4,
 "nbformat_minor": 4
}
