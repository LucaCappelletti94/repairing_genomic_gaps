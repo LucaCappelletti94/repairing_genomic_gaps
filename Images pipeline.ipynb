{
 "cells": [
  {
   "cell_type": "code",
   "execution_count": 1,
   "metadata": {},
   "outputs": [],
   "source": [
    "import pandas as pd\n",
    "from glob import glob\n",
    "from barplots import barplots"
   ]
  },
  {
   "cell_type": "code",
   "execution_count": 2,
   "metadata": {},
   "outputs": [],
   "source": [
    "results = pd.concat([\n",
    "    pd.read_csv(path, index_col=0)\n",
    "    for path in glob(\"reports/*.csv\")\n",
    "])"
   ]
  },
  {
   "cell_type": "code",
   "execution_count": 3,
   "metadata": {},
   "outputs": [],
   "source": [
    "task = \"reconstruction\"\n",
    "results1 = results[results.task==task]\n",
    "results1 = results1[results1.run_type!=\"biological validation\"]\n",
    "results1 = results1.drop(columns=[\"task\", \"dataset\"])"
   ]
  },
  {
   "cell_type": "code",
   "execution_count": 4,
   "metadata": {},
   "outputs": [
    {
     "data": {
      "application/vnd.jupyter.widget-view+json": {
       "model_id": "26c00ca9ad844f76aff0cd9ac696bb71",
       "version_major": 2,
       "version_minor": 0
      },
      "text/plain": [
       "HBox(children=(IntProgress(value=0, description='Rendering barplots', layout=Layout(flex='2'), max=3, style=Pr…"
      ]
     },
     "metadata": {},
     "output_type": "display_data"
    },
    {
     "name": "stdout",
     "output_type": "stream",
     "text": [
      "\n"
     ]
    },
    {
     "data": {
      "application/vnd.jupyter.widget-view+json": {
       "model_id": "c37e22f9c73e4852a8f3a94a491eeb05",
       "version_major": 2,
       "version_minor": 0
      },
      "text/plain": [
       "HBox(children=(IntProgress(value=0, description='Rendering barplots', layout=Layout(flex='2'), max=3, style=Pr…"
      ]
     },
     "metadata": {},
     "output_type": "display_data"
    },
    {
     "name": "stdout",
     "output_type": "stream",
     "text": [
      "\n"
     ]
    }
   ],
   "source": [
    "for trained_on in results1.trained_on.unique():\n",
    "    tmp = results1[results1.trained_on==trained_on].drop(\n",
    "        columns=[\"trained_on\"]\n",
    "    )\n",
    "    barplots(\n",
    "        tmp,\n",
    "        [\"run_type\", \"target\", \"model\"],\n",
    "        path=f\"barplots/{task}_{trained_on}_{{feature}}\",\n",
    "        show_standard_deviation=False,\n",
    "        subplots=True,\n",
    "        orientation=\"horizontal\",\n",
    "        plots_per_row=4,\n",
    "        unique_minor_labels=True,\n",
    "        show_legend=False\n",
    "    )"
   ]
  },
  {
   "cell_type": "code",
   "execution_count": 12,
   "metadata": {},
   "outputs": [
    {
     "data": {
      "application/vnd.jupyter.widget-view+json": {
       "model_id": "a83791c9d7fd446c84ca42cfb4271c8a",
       "version_major": 2,
       "version_minor": 0
      },
      "text/plain": [
       "HBox(children=(IntProgress(value=0, description='Rendering barplots', layout=Layout(flex='2'), max=3, style=Pr…"
      ]
     },
     "metadata": {},
     "output_type": "display_data"
    },
    {
     "name": "stdout",
     "output_type": "stream",
     "text": [
      "\n"
     ]
    },
    {
     "data": {
      "application/vnd.jupyter.widget-view+json": {
       "model_id": "8d336f508ecf4baaa36c0d3e3cf5cc58",
       "version_major": 2,
       "version_minor": 0
      },
      "text/plain": [
       "HBox(children=(IntProgress(value=0, description='Rendering barplots', layout=Layout(flex='2'), max=3, style=Pr…"
      ]
     },
     "metadata": {},
     "output_type": "display_data"
    },
    {
     "name": "stdout",
     "output_type": "stream",
     "text": [
      "\n"
     ]
    }
   ],
   "source": [
    "task = \"reconstruction\"\n",
    "results1 = results[results.task==task]\n",
    "results1 = results1[results1.run_type==\"biological validation\"]\n",
    "results1 = results1.drop(columns=[\"task\", \"dataset\"])\n",
    "\n",
    "for trained_on in results1.trained_on.unique():\n",
    "    tmp = results1[results1.trained_on==trained_on].drop(\n",
    "        columns=[\"trained_on\"]\n",
    "    )\n",
    "    barplots(\n",
    "        tmp,\n",
    "        [\"run_type\", \"target\", \"model\"],\n",
    "        height=4.75,\n",
    "        path=f\"barplots/biological_{task}_{trained_on}_{{feature}}\",\n",
    "        show_standard_deviation=False,\n",
    "        subplots=True,\n",
    "        orientation=\"horizontal\",\n",
    "        plots_per_row=4,\n",
    "        unique_minor_labels=True,\n",
    "        show_legend=False\n",
    "    )"
   ]
  },
  {
   "cell_type": "code",
   "execution_count": 6,
   "metadata": {},
   "outputs": [],
   "source": [
    "task = \"gap_filling\"\n",
    "results2 = results[results.task==task]\n",
    "results2 = results2[results2.run_type!=\"biological validation\"]\n",
    "results2 = results2.drop(columns=[\"task\", \"dataset\"])"
   ]
  },
  {
   "cell_type": "code",
   "execution_count": 7,
   "metadata": {},
   "outputs": [
    {
     "data": {
      "application/vnd.jupyter.widget-view+json": {
       "model_id": "c1642a0c7f2c4fdea0c62bdbfe66ddc1",
       "version_major": 2,
       "version_minor": 0
      },
      "text/plain": [
       "HBox(children=(IntProgress(value=0, description='Rendering barplots', layout=Layout(flex='2'), max=3, style=Pr…"
      ]
     },
     "metadata": {},
     "output_type": "display_data"
    },
    {
     "name": "stdout",
     "output_type": "stream",
     "text": [
      "\n"
     ]
    },
    {
     "data": {
      "application/vnd.jupyter.widget-view+json": {
       "model_id": "73ce0d19c7b44ba38df002686335ad9a",
       "version_major": 2,
       "version_minor": 0
      },
      "text/plain": [
       "HBox(children=(IntProgress(value=0, description='Rendering barplots', layout=Layout(flex='2'), max=3, style=Pr…"
      ]
     },
     "metadata": {},
     "output_type": "display_data"
    },
    {
     "name": "stdout",
     "output_type": "stream",
     "text": [
      "\n"
     ]
    }
   ],
   "source": [
    "for trained_on in results2.trained_on.unique():\n",
    "    tmp = results2[results2.trained_on==trained_on].drop(\n",
    "        columns=[\"trained_on\"]\n",
    "    )\n",
    "    barplots(\n",
    "        tmp,\n",
    "        [\"run_type\", \"target\", \"model\"],\n",
    "        path=f\"barplots/{task}_{trained_on}_{{feature}}\",\n",
    "        show_standard_deviation=False,\n",
    "        subplots=True,\n",
    "        orientation=\"horizontal\",\n",
    "        plots_per_row=5,\n",
    "        unique_minor_labels=True,\n",
    "        show_legend=False\n",
    "    )"
   ]
  },
  {
   "cell_type": "code",
   "execution_count": 8,
   "metadata": {},
   "outputs": [],
   "source": [
    "task = \"gap_filling\"\n",
    "results2 = results[results.task==task]\n",
    "results2 = results2[results2.run_type==\"biological validation\"]\n",
    "results2 = results2.drop(columns=[\"task\", \"dataset\"])"
   ]
  },
  {
   "cell_type": "code",
   "execution_count": 9,
   "metadata": {},
   "outputs": [
    {
     "data": {
      "application/vnd.jupyter.widget-view+json": {
       "model_id": "0274f11d67e74a34a5f2bb768b33c93b",
       "version_major": 2,
       "version_minor": 0
      },
      "text/plain": [
       "HBox(children=(IntProgress(value=0, description='Rendering barplots', layout=Layout(flex='2'), max=3, style=Pr…"
      ]
     },
     "metadata": {},
     "output_type": "display_data"
    },
    {
     "name": "stdout",
     "output_type": "stream",
     "text": [
      "\n"
     ]
    },
    {
     "data": {
      "application/vnd.jupyter.widget-view+json": {
       "model_id": "76627552e5aa45e1bcf627239fbbfe47",
       "version_major": 2,
       "version_minor": 0
      },
      "text/plain": [
       "HBox(children=(IntProgress(value=0, description='Rendering barplots', layout=Layout(flex='2'), max=3, style=Pr…"
      ]
     },
     "metadata": {},
     "output_type": "display_data"
    },
    {
     "name": "stdout",
     "output_type": "stream",
     "text": [
      "\n"
     ]
    }
   ],
   "source": [
    "for trained_on in results2.trained_on.unique():\n",
    "    tmp = results2[results2.trained_on==trained_on].drop(\n",
    "        columns=[\"trained_on\"]\n",
    "    )\n",
    "    barplots(\n",
    "        tmp,\n",
    "        [\"run_type\", \"target\", \"model\"],\n",
    "        path=f\"barplots/biological_{task}_{trained_on}_{{feature}}\",\n",
    "        show_standard_deviation=False,\n",
    "        subplots=True,\n",
    "        orientation=\"horizontal\",\n",
    "        plots_per_row=5,\n",
    "        unique_minor_labels=True,\n",
    "        show_legend=False\n",
    "    )"
   ]
  }
 ],
 "metadata": {
  "kernelspec": {
   "display_name": "Python 3",
   "language": "python",
   "name": "python3"
  },
  "language_info": {
   "codemirror_mode": {
    "name": "ipython",
    "version": 3
   },
   "file_extension": ".py",
   "mimetype": "text/x-python",
   "name": "python",
   "nbconvert_exporter": "python",
   "pygments_lexer": "ipython3",
   "version": "3.7.4"
  }
 },
 "nbformat": 4,
 "nbformat_minor": 2
}
