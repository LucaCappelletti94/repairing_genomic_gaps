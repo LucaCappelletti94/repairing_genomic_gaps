{
 "cells": [
  {
   "cell_type": "code",
   "execution_count": 6,
   "metadata": {},
   "outputs": [],
   "source": [
    "from repairing_genomic_gaps import cae_200\n",
    "from repairing_genomic_gaps.utils import get_model_history_path, get_model_weights_path\n",
    "from repairing_genomic_gaps import build_multivariate_dataset_cae, build_synthetic_dataset_cae"
   ]
  },
  {
   "cell_type": "code",
   "execution_count": 5,
   "metadata": {},
   "outputs": [
    {
     "name": "stdout",
     "output_type": "stream",
     "text": [
      "Model: \"encoder\"\n",
      "_________________________________________________________________\n",
      "Layer (type)                 Output Shape              Param #   \n",
      "=================================================================\n",
      "encoder_input (InputLayer)   [(None, 200, 4)]          0         \n",
      "_________________________________________________________________\n",
      "reshape (Reshape)            (None, 200, 4, 1)         0         \n",
      "_________________________________________________________________\n",
      "conv2d (Conv2D)              (None, 100, 4, 64)        2624      \n",
      "_________________________________________________________________\n",
      "batch_normalization (BatchNo (None, 100, 4, 64)        256       \n",
      "_________________________________________________________________\n",
      "activation (Activation)      (None, 100, 4, 64)        0         \n",
      "_________________________________________________________________\n",
      "conv2d_1 (Conv2D)            (None, 20, 2, 32)         81952     \n",
      "_________________________________________________________________\n",
      "batch_normalization_1 (Batch (None, 20, 2, 32)         128       \n",
      "_________________________________________________________________\n",
      "activation_1 (Activation)    (None, 20, 2, 32)         0         \n",
      "_________________________________________________________________\n",
      "conv2d_2 (Conv2D)            (None, 10, 1, 16)         10256     \n",
      "_________________________________________________________________\n",
      "batch_normalization_2 (Batch (None, 10, 1, 16)         64        \n",
      "_________________________________________________________________\n",
      "activation_2 (Activation)    (None, 10, 1, 16)         0         \n",
      "_________________________________________________________________\n",
      "flatten (Flatten)            (None, 160)               0         \n",
      "_________________________________________________________________\n",
      "latent_vector (Dense)        (None, 100)               16100     \n",
      "=================================================================\n",
      "Total params: 111,380\n",
      "Trainable params: 111,156\n",
      "Non-trainable params: 224\n",
      "_________________________________________________________________\n",
      "Model: \"decoder\"\n",
      "_________________________________________________________________\n",
      "Layer (type)                 Output Shape              Param #   \n",
      "=================================================================\n",
      "decoder_input (InputLayer)   [(None, 100)]             0         \n",
      "_________________________________________________________________\n",
      "dense (Dense)                (None, 160)               16160     \n",
      "_________________________________________________________________\n",
      "reshape_1 (Reshape)          (None, 10, 1, 16)         0         \n",
      "_________________________________________________________________\n",
      "conv2d_transpose (Conv2DTran (None, 20, 2, 16)         5136      \n",
      "_________________________________________________________________\n",
      "batch_normalization_3 (Batch (None, 20, 2, 16)         64        \n",
      "_________________________________________________________________\n",
      "activation_3 (Activation)    (None, 20, 2, 16)         0         \n",
      "_________________________________________________________________\n",
      "conv2d_transpose_1 (Conv2DTr (None, 100, 4, 32)        20512     \n",
      "_________________________________________________________________\n",
      "batch_normalization_4 (Batch (None, 100, 4, 32)        128       \n",
      "_________________________________________________________________\n",
      "activation_4 (Activation)    (None, 100, 4, 32)        0         \n",
      "_________________________________________________________________\n",
      "conv2d_transpose_2 (Conv2DTr (None, 200, 4, 64)        81984     \n",
      "_________________________________________________________________\n",
      "batch_normalization_5 (Batch (None, 200, 4, 64)        256       \n",
      "_________________________________________________________________\n",
      "activation_5 (Activation)    (None, 200, 4, 64)        0         \n",
      "_________________________________________________________________\n",
      "decoder_output (Conv2DTransp (None, 200, 4, 1)         2561      \n",
      "_________________________________________________________________\n",
      "reshape_2 (Reshape)          (None, 200, 4)            0         \n",
      "=================================================================\n",
      "Total params: 126,801\n",
      "Trainable params: 126,577\n",
      "Non-trainable params: 224\n",
      "_________________________________________________________________\n",
      "Model: \"cae_200\"\n",
      "_________________________________________________________________\n",
      "Layer (type)                 Output Shape              Param #   \n",
      "=================================================================\n",
      "encoder_input (InputLayer)   [(None, 200, 4)]          0         \n",
      "_________________________________________________________________\n",
      "encoder (Model)              (None, 100)               111380    \n",
      "_________________________________________________________________\n",
      "decoder (Model)              (None, 200, 4)            126801    \n",
      "=================================================================\n",
      "Total params: 238,181\n",
      "Trainable params: 237,733\n",
      "Non-trainable params: 448\n",
      "_________________________________________________________________\n"
     ]
    }
   ],
   "source": [
    "window_size = 200\n",
    "model = cae_200()"
   ]
  },
  {
   "cell_type": "code",
   "execution_count": null,
   "metadata": {},
   "outputs": [
    {
     "data": {
      "application/vnd.jupyter.widget-view+json": {
       "model_id": "",
       "version_major": 2,
       "version_minor": 0
      },
      "text/plain": [
       "HBox(children=(IntProgress(value=0, description='Loading chromosomes for genome hg19', layout=Layout(flex='2')…"
      ]
     },
     "metadata": {},
     "output_type": "display_data"
    },
    {
     "name": "stdout",
     "output_type": "stream",
     "text": [
      "\r"
     ]
    },
    {
     "data": {
      "application/vnd.jupyter.widget-view+json": {
       "model_id": "6b1bc7f2e6354a709670d518756fa3bb",
       "version_major": 2,
       "version_minor": 0
      },
      "text/plain": [
       "HBox(children=(IntProgress(value=0, description='Rendering gaps in hg19', layout=Layout(flex='2'), max=22, sty…"
      ]
     },
     "metadata": {},
     "output_type": "display_data"
    }
   ],
   "source": [
    "train, test = build_synthetic_dataset_cae(window_size, batch_size=512)"
   ]
  },
  {
   "cell_type": "code",
   "execution_count": null,
   "metadata": {},
   "outputs": [],
   "source": []
  }
 ],
 "metadata": {
  "kernelspec": {
   "display_name": "Python 3",
   "language": "python",
   "name": "python3"
  },
  "language_info": {
   "codemirror_mode": {
    "name": "ipython",
    "version": 3
   },
   "file_extension": ".py",
   "mimetype": "text/x-python",
   "name": "python",
   "nbconvert_exporter": "python",
   "pygments_lexer": "ipython3",
   "version": "3.7.4"
  }
 },
 "nbformat": 4,
 "nbformat_minor": 2
}
