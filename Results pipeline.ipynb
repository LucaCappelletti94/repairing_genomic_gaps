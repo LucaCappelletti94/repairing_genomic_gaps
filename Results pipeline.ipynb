{
 "cells": [
  {
   "cell_type": "code",
   "execution_count": 42,
   "metadata": {},
   "outputs": [],
   "source": [
    "from repairing_genomic_gaps import cae_200, cae_500, cae_1000\n",
    "from repairing_genomic_gaps.utils import get_model_history_path, get_model_weights_path\n",
    "from repairing_genomic_gaps import build_multivariate_dataset_cae, build_synthetic_dataset_cae\n",
    "import numpy as np\n",
    "import pandas as pd\n",
    "from tqdm.auto import tqdm\n",
    "from typing import Dict, List, Callable\n",
    "from pprint import pprint\n",
    "from tensorflow.keras import Model\n",
    "from deflate_dict import deflate, inflate\n",
    "from sklearn.metrics import roc_auc_score, average_precision_score, accuracy_score, balanced_accuracy_score\n",
    "from holdouts_generator.utils.metrics import binary_classifications_metrics\n",
    "from multiprocessing import Pool, cpu_count, current_process\n",
    "from tensorflow.keras.utils import Sequence"
   ]
  },
  {
   "cell_type": "code",
   "execution_count": 43,
   "metadata": {},
   "outputs": [],
   "source": [
    "window_size = 1000"
   ]
  },
  {
   "cell_type": "code",
   "execution_count": 44,
   "metadata": {},
   "outputs": [
    {
     "data": {
      "application/vnd.jupyter.widget-view+json": {
       "model_id": "",
       "version_major": 2,
       "version_minor": 0
      },
      "text/plain": [
       "HBox(children=(IntProgress(value=0, description='Loading chromosomes for genome hg19', layout=Layout(flex='2')…"
      ]
     },
     "metadata": {},
     "output_type": "display_data"
    },
    {
     "data": {
      "application/vnd.jupyter.widget-view+json": {
       "model_id": "",
       "version_major": 2,
       "version_minor": 0
      },
      "text/plain": [
       "HBox(children=(IntProgress(value=0, description='Rendering gaps in hg19', layout=Layout(flex='2'), max=22, sty…"
      ]
     },
     "metadata": {},
     "output_type": "display_data"
    },
    {
     "data": {
      "application/vnd.jupyter.widget-view+json": {
       "model_id": "",
       "version_major": 2,
       "version_minor": 0
      },
      "text/plain": [
       "HBox(children=(IntProgress(value=0, description='Tessellating windows', layout=Layout(flex='2'), max=357, styl…"
      ]
     },
     "metadata": {},
     "output_type": "display_data"
    },
    {
     "data": {
      "application/vnd.jupyter.widget-view+json": {
       "model_id": "",
       "version_major": 2,
       "version_minor": 0
      },
      "text/plain": [
       "HBox(children=(IntProgress(value=0, description='Rendering sequences in hg19', layout=Layout(flex='2'), max=28…"
      ]
     },
     "metadata": {},
     "output_type": "display_data"
    },
    {
     "data": {
      "application/vnd.jupyter.widget-view+json": {
       "model_id": "",
       "version_major": 2,
       "version_minor": 0
      },
      "text/plain": [
       "HBox(children=(IntProgress(value=0, description='Converting nucleotides to numeric classes', layout=Layout(fle…"
      ]
     },
     "metadata": {},
     "output_type": "display_data"
    },
    {
     "data": {
      "application/vnd.jupyter.widget-view+json": {
       "model_id": "",
       "version_major": 2,
       "version_minor": 0
      },
      "text/plain": [
       "HBox(children=(IntProgress(value=0, description='Rendering gaps in hg19', layout=Layout(flex='2'), max=2, styl…"
      ]
     },
     "metadata": {},
     "output_type": "display_data"
    },
    {
     "data": {
      "application/vnd.jupyter.widget-view+json": {
       "model_id": "",
       "version_major": 2,
       "version_minor": 0
      },
      "text/plain": [
       "HBox(children=(IntProgress(value=0, description='Tessellating windows', layout=Layout(flex='2'), max=27, style…"
      ]
     },
     "metadata": {},
     "output_type": "display_data"
    },
    {
     "data": {
      "application/vnd.jupyter.widget-view+json": {
       "model_id": "",
       "version_major": 2,
       "version_minor": 0
      },
      "text/plain": [
       "HBox(children=(IntProgress(value=0, description='Rendering sequences in hg19', layout=Layout(flex='2'), max=16…"
      ]
     },
     "metadata": {},
     "output_type": "display_data"
    },
    {
     "data": {
      "application/vnd.jupyter.widget-view+json": {
       "model_id": "",
       "version_major": 2,
       "version_minor": 0
      },
      "text/plain": [
       "HBox(children=(IntProgress(value=0, description='Converting nucleotides to numeric classes', layout=Layout(fle…"
      ]
     },
     "metadata": {},
     "output_type": "display_data"
    }
   ],
   "source": [
    "train, test = build_synthetic_dataset_cae(window_size, batch_size=512)"
   ]
  },
  {
   "cell_type": "code",
   "execution_count": 45,
   "metadata": {},
   "outputs": [],
   "source": [
    "def get_central_nucleotides(predictions:np.ndarray)->np.ndarray:\n",
    "    return predictions[:, predictions.shape[1]//2].reshape(-1, 1, 4)"
   ]
  },
  {
   "cell_type": "code",
   "execution_count": 46,
   "metadata": {},
   "outputs": [],
   "source": [
    "def categorical_report(y_true:np.ndarray, y_pred:np.ndarray, true_class, pred_class):\n",
    "    return {\n",
    "        \"roc_auc_score\": roc_auc_score(y_true, y_pred),\n",
    "        \"average_precision_score\": average_precision_score(y_true, y_pred),\n",
    "        \"accuracy_score\": accuracy_score(true_class, pred_class),\n",
    "        \"balanced_accuracy_score\": balanced_accuracy_score(true_class, pred_class)\n",
    "    }"
   ]
  },
  {
   "cell_type": "code",
   "execution_count": 47,
   "metadata": {},
   "outputs": [],
   "source": [
    "def categorical_nucleotides_report(y_true:np.ndarray, y_pred:np.ndarray)->Dict:\n",
    "    true_class = np.argmax(y_true, axis=-1)\n",
    "    pred_class = np.argmax(y_pred, axis=-1)\n",
    "    \n",
    "    nucleotides = [\n",
    "        \"adenine\",\n",
    "        \"cytosine\",\n",
    "        \"thymine\",\n",
    "        \"guanine\"\n",
    "    ]\n",
    "        \n",
    "    return {\n",
    "        \"all_nucleotides\":categorical_report(\n",
    "            y_true.flatten(), y_pred.flatten(),\n",
    "            true_class.flatten(), pred_class.flatten()\n",
    "        ),\n",
    "        **{\n",
    "            nucleotide:binary_classifications_metrics(y_true[:, :, i].flatten(), y_pred[:, :, i].flatten())\n",
    "            for i, nucleotide in enumerate(nucleotides)\n",
    "        }\n",
    "    }"
   ]
  },
  {
   "cell_type": "code",
   "execution_count": 48,
   "metadata": {},
   "outputs": [],
   "source": [
    "def cae_report(y_true:np.ndarray, y_pred:np.ndarray)->Dict:\n",
    "    return {\n",
    "        \"reconstruction\": categorical_nucleotides_report(y_true, y_pred),\n",
    "        \"gap_filling\": categorical_nucleotides_report(\n",
    "            get_central_nucleotides(y_true),\n",
    "            get_central_nucleotides(y_pred)\n",
    "        )\n",
    "    }"
   ]
  },
  {
   "cell_type": "code",
   "execution_count": 49,
   "metadata": {},
   "outputs": [],
   "source": [
    "def flat_report(report:List[Dict], model:Model):\n",
    "    return [\n",
    "        {\n",
    "            \"model\":model.name,\n",
    "            \"task\":task,\n",
    "            \"target\":target,\n",
    "            **target_results\n",
    "        }\n",
    "        for report_set in report\n",
    "        for task, results in report_set.items()\n",
    "        for target, target_results in results.items()\n",
    "    ]"
   ]
  },
  {
   "cell_type": "code",
   "execution_count": null,
   "metadata": {},
   "outputs": [
    {
     "data": {
      "application/vnd.jupyter.widget-view+json": {
       "model_id": "f8a60c02bf1744088e6f3dde40608016",
       "version_major": 2,
       "version_minor": 0
      },
      "text/plain": [
       "HBox(children=(IntProgress(value=0, max=295), HTML(value='')))"
      ]
     },
     "metadata": {},
     "output_type": "display_data"
    }
   ],
   "source": [
    "model = cae_1000(verbose=False)\n",
    "model.load_weights(get_model_weights_path(model))\n",
    "\n",
    "batches = [\n",
    "    test[batch]\n",
    "    for batch in range(test.steps_per_epoch)\n",
    "]\n",
    " \n",
    "report = [\n",
    "    cae_report(y, model.predict(X))\n",
    "    for X, y in tqdm(batches)\n",
    "]"
   ]
  },
  {
   "cell_type": "code",
   "execution_count": null,
   "metadata": {},
   "outputs": [],
   "source": [
    "pd.DataFrame(flat_report(report, model)).groupby([\"model\", \"task\", \"target\"]).mean().to_csv(\"{}.csv\".format(model.name))"
   ]
  },
  {
   "cell_type": "code",
   "execution_count": null,
   "metadata": {},
   "outputs": [],
   "source": []
  }
 ],
 "metadata": {
  "kernelspec": {
   "display_name": "Python 3",
   "language": "python",
   "name": "python3"
  },
  "language_info": {
   "codemirror_mode": {
    "name": "ipython",
    "version": 3
   },
   "file_extension": ".py",
   "mimetype": "text/x-python",
   "name": "python",
   "nbconvert_exporter": "python",
   "pygments_lexer": "ipython3",
   "version": "3.7.4"
  }
 },
 "nbformat": 4,
 "nbformat_minor": 2
}
