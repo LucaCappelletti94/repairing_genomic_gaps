{
 "cells": [
  {
   "cell_type": "code",
   "execution_count": 11,
   "metadata": {},
   "outputs": [],
   "source": [
    "from repairing_genomic_gaps import cae_200, cae_500, cae_1000, cnn_200, cnn_500, cnn_1000\n",
    "from repairing_genomic_gaps.utils import get_model_history_path, get_model_weights_path\n",
    "from repairing_genomic_gaps import build_multivariate_dataset_cae, build_synthetic_dataset_cae\n",
    "from repairing_genomic_gaps import build_multivariate_dataset_cnn, build_synthetic_dataset_cnn\n",
    "import numpy as np\n",
    "import pandas as pd\n",
    "from tqdm.auto import tqdm\n",
    "from typing import Dict, List, Callable\n",
    "from tensorflow.keras.utils import Sequence\n",
    "from tensorflow.keras import Model\n",
    "from repairing_genomic_gaps.reports.report_utils import cae_report, cnn_report, flat_report\n",
    "import warnings\n",
    "\n",
    "warnings.simplefilter(\"ignore\")"
   ]
  },
  {
   "cell_type": "code",
   "execution_count": 12,
   "metadata": {},
   "outputs": [],
   "source": [
    "models = {\n",
    "    \"cae\":{\n",
    "        200: cae_200,\n",
    "        500: cae_500,\n",
    "        1000: cae_1000,\n",
    "    }, \n",
    "    \"cnn\":{\n",
    "        200: cnn_200,\n",
    "        500: cnn_500,\n",
    "        1000: cnn_1000\n",
    "    }\n",
    "}\n",
    "\n",
    "datasets = {\n",
    "    \"cae\": [\n",
    "        build_multivariate_dataset_cae,\n",
    "        build_synthetic_dataset_cae\n",
    "    ],\n",
    "    \"cnn\": [\n",
    "        build_multivariate_dataset_cnn,\n",
    "        build_synthetic_dataset_cnn\n",
    "    ]\n",
    "}\n",
    "\n",
    "report_types = {\n",
    "    \"cae\": cae_report,\n",
    "    \"cnn\": cnn_report\n",
    "}\n",
    "\n",
    "dataset_kwargs = dict(\n",
    "    batch_size = 512,\n",
    "    training_chromosomes = [\"chrM\"],\n",
    "    testing_chromosomes = [\"chrM\"]\n",
    ")"
   ]
  },
  {
   "cell_type": "code",
   "execution_count": 13,
   "metadata": {},
   "outputs": [],
   "source": [
    "def build_report(model:Model, report:Callable, sequence:Sequence):\n",
    "    for batch in tqdm(range(sequence.steps_per_epoch), leave=False):\n",
    "        X, y = sequence[batch]\n",
    "        yield report(y, model.predict(X))"
   ]
  },
  {
   "cell_type": "code",
   "execution_count": 14,
   "metadata": {
    "scrolled": false
   },
   "outputs": [
    {
     "data": {
      "application/vnd.jupyter.widget-view+json": {
       "model_id": "",
       "version_major": 2,
       "version_minor": 0
      },
      "text/plain": [
       "HBox(children=(IntProgress(value=0, description='Model types', max=2, style=ProgressStyle(description_width='i…"
      ]
     },
     "metadata": {},
     "output_type": "display_data"
    },
    {
     "data": {
      "application/vnd.jupyter.widget-view+json": {
       "model_id": "",
       "version_major": 2,
       "version_minor": 0
      },
      "text/plain": [
       "HBox(children=(IntProgress(value=0, description='Datasets', max=2, style=ProgressStyle(description_width='init…"
      ]
     },
     "metadata": {},
     "output_type": "display_data"
    },
    {
     "data": {
      "application/vnd.jupyter.widget-view+json": {
       "model_id": "",
       "version_major": 2,
       "version_minor": 0
      },
      "text/plain": [
       "HBox(children=(IntProgress(value=0, description='Models', max=3, style=ProgressStyle(description_width='initia…"
      ]
     },
     "metadata": {},
     "output_type": "display_data"
    },
    {
     "name": "stdout",
     "output_type": "stream",
     "text": [
      "Loading cache at ./cache/build_multivariate_synthetic_dataset_build_multivariate_dataset_cae/e866a710d53326625e2f2ee289583ffc1e60c4dac704cde2d2b2a2f9d69b7e31.pkl\n"
     ]
    },
    {
     "data": {
      "application/vnd.jupyter.widget-view+json": {
       "model_id": "",
       "version_major": 2,
       "version_minor": 0
      },
      "text/plain": [
       "HBox(children=(IntProgress(value=0, max=1), HTML(value='')))"
      ]
     },
     "metadata": {},
     "output_type": "display_data"
    },
    {
     "name": "stdout",
     "output_type": "stream",
     "text": [
      "Loading cache at ./cache/build_multivariate_synthetic_dataset_build_multivariate_dataset_cae/c06cbdb570a75555b6e18b8dcf23b038d39bd91bf9785c0d479b605f52e5d1c6.pkl\n"
     ]
    },
    {
     "data": {
      "application/vnd.jupyter.widget-view+json": {
       "model_id": "",
       "version_major": 2,
       "version_minor": 0
      },
      "text/plain": [
       "HBox(children=(IntProgress(value=0, max=1), HTML(value='')))"
      ]
     },
     "metadata": {},
     "output_type": "display_data"
    },
    {
     "name": "stdout",
     "output_type": "stream",
     "text": [
      "Loading cache at ./cache/build_multivariate_synthetic_dataset_build_multivariate_dataset_cae/efe458eb1065830b5c52aef6fb7e36ceb438ca29fdd2c552e174ab5c21df9895.pkl\n"
     ]
    },
    {
     "data": {
      "application/vnd.jupyter.widget-view+json": {
       "model_id": "",
       "version_major": 2,
       "version_minor": 0
      },
      "text/plain": [
       "HBox(children=(IntProgress(value=0, max=1), HTML(value='')))"
      ]
     },
     "metadata": {},
     "output_type": "display_data"
    },
    {
     "data": {
      "application/vnd.jupyter.widget-view+json": {
       "model_id": "",
       "version_major": 2,
       "version_minor": 0
      },
      "text/plain": [
       "HBox(children=(IntProgress(value=0, description='Models', max=3, style=ProgressStyle(description_width='initia…"
      ]
     },
     "metadata": {},
     "output_type": "display_data"
    },
    {
     "name": "stdout",
     "output_type": "stream",
     "text": [
      "Loading cache at ./cache/build_synthetic_dataset_build_synthetic_dataset_cae/af894691b758516d947ef52e1264b1caa1e4365ba98dbcfafc2dd54c24474d7b.pkl\n"
     ]
    },
    {
     "data": {
      "application/vnd.jupyter.widget-view+json": {
       "model_id": "",
       "version_major": 2,
       "version_minor": 0
      },
      "text/plain": [
       "HBox(children=(IntProgress(value=0, max=1), HTML(value='')))"
      ]
     },
     "metadata": {},
     "output_type": "display_data"
    },
    {
     "name": "stdout",
     "output_type": "stream",
     "text": [
      "Loading cache at ./cache/build_synthetic_dataset_build_synthetic_dataset_cae/862384637e6397a92ef716087398790e941db953fd25f1b6ee28b53baac8f8bb.pkl\n"
     ]
    },
    {
     "data": {
      "application/vnd.jupyter.widget-view+json": {
       "model_id": "",
       "version_major": 2,
       "version_minor": 0
      },
      "text/plain": [
       "HBox(children=(IntProgress(value=0, max=1), HTML(value='')))"
      ]
     },
     "metadata": {},
     "output_type": "display_data"
    },
    {
     "name": "stdout",
     "output_type": "stream",
     "text": [
      "Loading cache at ./cache/build_synthetic_dataset_build_synthetic_dataset_cae/cfafc2a48848e21a9f6f0cc12d36125979c6376e9fa25f3d8235be8f36d82076.pkl\n"
     ]
    },
    {
     "data": {
      "application/vnd.jupyter.widget-view+json": {
       "model_id": "",
       "version_major": 2,
       "version_minor": 0
      },
      "text/plain": [
       "HBox(children=(IntProgress(value=0, max=1), HTML(value='')))"
      ]
     },
     "metadata": {},
     "output_type": "display_data"
    },
    {
     "data": {
      "application/vnd.jupyter.widget-view+json": {
       "model_id": "",
       "version_major": 2,
       "version_minor": 0
      },
      "text/plain": [
       "HBox(children=(IntProgress(value=0, description='Datasets', max=2, style=ProgressStyle(description_width='init…"
      ]
     },
     "metadata": {},
     "output_type": "display_data"
    },
    {
     "data": {
      "application/vnd.jupyter.widget-view+json": {
       "model_id": "",
       "version_major": 2,
       "version_minor": 0
      },
      "text/plain": [
       "HBox(children=(IntProgress(value=0, description='Models', max=3, style=ProgressStyle(description_width='initia…"
      ]
     },
     "metadata": {},
     "output_type": "display_data"
    },
    {
     "name": "stdout",
     "output_type": "stream",
     "text": [
      "Loading cache at ./cache/build_multivariate_synthetic_dataset_build_multivariate_dataset_cnn/5d38c7bd7a815adeac969f412b5e68d7cfbc45540d733ea2dbc8a4a84fdfc650.pkl\n"
     ]
    },
    {
     "data": {
      "application/vnd.jupyter.widget-view+json": {
       "model_id": "",
       "version_major": 2,
       "version_minor": 0
      },
      "text/plain": [
       "HBox(children=(IntProgress(value=0, max=1), HTML(value='')))"
      ]
     },
     "metadata": {},
     "output_type": "display_data"
    },
    {
     "name": "stdout",
     "output_type": "stream",
     "text": [
      "Loading cache at ./cache/build_multivariate_synthetic_dataset_build_multivariate_dataset_cnn/0db3a628354e80334b3376175729a7ef492a59d6db101a2d68703a0224aa7300.pkl\n"
     ]
    },
    {
     "data": {
      "application/vnd.jupyter.widget-view+json": {
       "model_id": "",
       "version_major": 2,
       "version_minor": 0
      },
      "text/plain": [
       "HBox(children=(IntProgress(value=0, max=1), HTML(value='')))"
      ]
     },
     "metadata": {},
     "output_type": "display_data"
    },
    {
     "name": "stdout",
     "output_type": "stream",
     "text": [
      "Loading cache at ./cache/build_multivariate_synthetic_dataset_build_multivariate_dataset_cnn/0eb383e182d95b9c6970c33b4c7ab8e2326154ad476a818cb515780a96a2cdfa.pkl\n"
     ]
    },
    {
     "data": {
      "application/vnd.jupyter.widget-view+json": {
       "model_id": "",
       "version_major": 2,
       "version_minor": 0
      },
      "text/plain": [
       "HBox(children=(IntProgress(value=0, max=1), HTML(value='')))"
      ]
     },
     "metadata": {},
     "output_type": "display_data"
    },
    {
     "data": {
      "application/vnd.jupyter.widget-view+json": {
       "model_id": "",
       "version_major": 2,
       "version_minor": 0
      },
      "text/plain": [
       "HBox(children=(IntProgress(value=0, description='Models', max=3, style=ProgressStyle(description_width='initia…"
      ]
     },
     "metadata": {},
     "output_type": "display_data"
    },
    {
     "name": "stdout",
     "output_type": "stream",
     "text": [
      "Loading cache at ./cache/build_synthetic_dataset_build_synthetic_dataset_cnn/6cff14cf17366b2476cd717e212c06f2fe3cec2dc06a386d8412202dc514c9ab.pkl\n"
     ]
    },
    {
     "data": {
      "application/vnd.jupyter.widget-view+json": {
       "model_id": "",
       "version_major": 2,
       "version_minor": 0
      },
      "text/plain": [
       "HBox(children=(IntProgress(value=0, max=1), HTML(value='')))"
      ]
     },
     "metadata": {},
     "output_type": "display_data"
    },
    {
     "name": "stdout",
     "output_type": "stream",
     "text": [
      "Loading cache at ./cache/build_synthetic_dataset_build_synthetic_dataset_cnn/b2d8442ebf8f162864396152530f364ac20c2a679a8ff4802891e36045537749.pkl\n"
     ]
    },
    {
     "data": {
      "application/vnd.jupyter.widget-view+json": {
       "model_id": "",
       "version_major": 2,
       "version_minor": 0
      },
      "text/plain": [
       "HBox(children=(IntProgress(value=0, max=1), HTML(value='')))"
      ]
     },
     "metadata": {},
     "output_type": "display_data"
    },
    {
     "name": "stdout",
     "output_type": "stream",
     "text": [
      "Loading cache at ./cache/build_synthetic_dataset_build_synthetic_dataset_cnn/d4d77c918b1b9b1a42db24940fa0c76b1040b9384dcef56507274a003bbc5c32.pkl\n"
     ]
    },
    {
     "data": {
      "application/vnd.jupyter.widget-view+json": {
       "model_id": "",
       "version_major": 2,
       "version_minor": 0
      },
      "text/plain": [
       "HBox(children=(IntProgress(value=0, max=1), HTML(value='')))"
      ]
     },
     "metadata": {},
     "output_type": "display_data"
    }
   ],
   "source": [
    "reports = []\n",
    "for model_type in tqdm(models, desc=\"Model types\", leave=False):\n",
    "    report = report_types[model_type]\n",
    "    for dataset in tqdm(datasets[model_type], desc=\"Datasets\", leave=False):\n",
    "        for window_size, build_model in tqdm(models[model_type].items(), desc=\"Models\", leave=False):\n",
    "            _, test = dataset(window_size, **dataset_kwargs)\n",
    "            model = build_model(verbose=False)\n",
    "            model.load_weights(get_model_weights_path(model))\n",
    "            reports += flat_report(\n",
    "                build_report(model, report, test),\n",
    "                model,\n",
    "                dataset,\n",
    "                \"test\"\n",
    "            )"
   ]
  },
  {
   "cell_type": "code",
   "execution_count": 16,
   "metadata": {},
   "outputs": [
    {
     "data": {
      "text/html": [
       "<div>\n",
       "<style scoped>\n",
       "    .dataframe tbody tr th:only-of-type {\n",
       "        vertical-align: middle;\n",
       "    }\n",
       "\n",
       "    .dataframe tbody tr th {\n",
       "        vertical-align: top;\n",
       "    }\n",
       "\n",
       "    .dataframe thead th {\n",
       "        text-align: right;\n",
       "    }\n",
       "</style>\n",
       "<table border=\"1\" class=\"dataframe\">\n",
       "  <thead>\n",
       "    <tr style=\"text-align: right;\">\n",
       "      <th></th>\n",
       "      <th></th>\n",
       "      <th></th>\n",
       "      <th></th>\n",
       "      <th>roc_auc_score</th>\n",
       "      <th>average_precision_score</th>\n",
       "      <th>accuracy_score</th>\n",
       "      <th>balanced_accuracy_score</th>\n",
       "      <th>f1_score</th>\n",
       "      <th>precision_score</th>\n",
       "      <th>recall_score</th>\n",
       "      <th>fall_out</th>\n",
       "      <th>true_negatives</th>\n",
       "      <th>true_positives</th>\n",
       "      <th>false_negatives</th>\n",
       "      <th>false_positives</th>\n",
       "    </tr>\n",
       "    <tr>\n",
       "      <th>model</th>\n",
       "      <th>dataset</th>\n",
       "      <th>task</th>\n",
       "      <th>target</th>\n",
       "      <th></th>\n",
       "      <th></th>\n",
       "      <th></th>\n",
       "      <th></th>\n",
       "      <th></th>\n",
       "      <th></th>\n",
       "      <th></th>\n",
       "      <th></th>\n",
       "      <th></th>\n",
       "      <th></th>\n",
       "      <th></th>\n",
       "      <th></th>\n",
       "    </tr>\n",
       "  </thead>\n",
       "  <tbody>\n",
       "    <tr>\n",
       "      <td rowspan=\"5\" valign=\"top\">cae_1000</td>\n",
       "      <td rowspan=\"5\" valign=\"top\">build_multivariate_dataset_cae_cached</td>\n",
       "      <td rowspan=\"5\" valign=\"top\">gap_filling</td>\n",
       "      <td>adenine</td>\n",
       "      <td>0.897436</td>\n",
       "      <td>0.722222</td>\n",
       "      <td>0.812500</td>\n",
       "      <td>0.500000</td>\n",
       "      <td>0.0</td>\n",
       "      <td>0.0</td>\n",
       "      <td>0.0</td>\n",
       "      <td>0.0</td>\n",
       "      <td>13.0</td>\n",
       "      <td>0.0</td>\n",
       "      <td>3.0</td>\n",
       "      <td>0.0</td>\n",
       "    </tr>\n",
       "    <tr>\n",
       "      <td>all_nucleotides</td>\n",
       "      <td>0.638021</td>\n",
       "      <td>0.382085</td>\n",
       "      <td>0.437500</td>\n",
       "      <td>0.458333</td>\n",
       "      <td>NaN</td>\n",
       "      <td>NaN</td>\n",
       "      <td>NaN</td>\n",
       "      <td>NaN</td>\n",
       "      <td>NaN</td>\n",
       "      <td>NaN</td>\n",
       "      <td>NaN</td>\n",
       "      <td>NaN</td>\n",
       "    </tr>\n",
       "    <tr>\n",
       "      <td>cytosine</td>\n",
       "      <td>0.666667</td>\n",
       "      <td>0.553571</td>\n",
       "      <td>0.750000</td>\n",
       "      <td>0.500000</td>\n",
       "      <td>0.0</td>\n",
       "      <td>0.0</td>\n",
       "      <td>0.0</td>\n",
       "      <td>0.0</td>\n",
       "      <td>12.0</td>\n",
       "      <td>0.0</td>\n",
       "      <td>4.0</td>\n",
       "      <td>0.0</td>\n",
       "    </tr>\n",
       "    <tr>\n",
       "      <td>guanine</td>\n",
       "      <td>0.435897</td>\n",
       "      <td>0.455556</td>\n",
       "      <td>0.812500</td>\n",
       "      <td>0.500000</td>\n",
       "      <td>0.0</td>\n",
       "      <td>0.0</td>\n",
       "      <td>0.0</td>\n",
       "      <td>0.0</td>\n",
       "      <td>13.0</td>\n",
       "      <td>0.0</td>\n",
       "      <td>3.0</td>\n",
       "      <td>0.0</td>\n",
       "    </tr>\n",
       "    <tr>\n",
       "      <td>thymine</td>\n",
       "      <td>0.383333</td>\n",
       "      <td>0.343359</td>\n",
       "      <td>0.625000</td>\n",
       "      <td>0.500000</td>\n",
       "      <td>0.0</td>\n",
       "      <td>0.0</td>\n",
       "      <td>0.0</td>\n",
       "      <td>0.0</td>\n",
       "      <td>10.0</td>\n",
       "      <td>0.0</td>\n",
       "      <td>6.0</td>\n",
       "      <td>0.0</td>\n",
       "    </tr>\n",
       "    <tr>\n",
       "      <td>...</td>\n",
       "      <td>...</td>\n",
       "      <td>...</td>\n",
       "      <td>...</td>\n",
       "      <td>...</td>\n",
       "      <td>...</td>\n",
       "      <td>...</td>\n",
       "      <td>...</td>\n",
       "      <td>...</td>\n",
       "      <td>...</td>\n",
       "      <td>...</td>\n",
       "      <td>...</td>\n",
       "      <td>...</td>\n",
       "      <td>...</td>\n",
       "      <td>...</td>\n",
       "      <td>...</td>\n",
       "    </tr>\n",
       "    <tr>\n",
       "      <td rowspan=\"5\" valign=\"top\">cnn_500</td>\n",
       "      <td rowspan=\"5\" valign=\"top\">build_synthetic_dataset_cnn_cached</td>\n",
       "      <td rowspan=\"5\" valign=\"top\">gap_filling</td>\n",
       "      <td>adenine</td>\n",
       "      <td>0.515000</td>\n",
       "      <td>0.256955</td>\n",
       "      <td>0.757576</td>\n",
       "      <td>0.500000</td>\n",
       "      <td>0.0</td>\n",
       "      <td>0.0</td>\n",
       "      <td>0.0</td>\n",
       "      <td>0.0</td>\n",
       "      <td>25.0</td>\n",
       "      <td>0.0</td>\n",
       "      <td>8.0</td>\n",
       "      <td>0.0</td>\n",
       "    </tr>\n",
       "    <tr>\n",
       "      <td>all_nucleotides</td>\n",
       "      <td>0.590144</td>\n",
       "      <td>0.296846</td>\n",
       "      <td>0.393939</td>\n",
       "      <td>0.322115</td>\n",
       "      <td>NaN</td>\n",
       "      <td>NaN</td>\n",
       "      <td>NaN</td>\n",
       "      <td>NaN</td>\n",
       "      <td>NaN</td>\n",
       "      <td>NaN</td>\n",
       "      <td>NaN</td>\n",
       "      <td>NaN</td>\n",
       "    </tr>\n",
       "    <tr>\n",
       "      <td>cytosine</td>\n",
       "      <td>0.573077</td>\n",
       "      <td>0.477833</td>\n",
       "      <td>0.606061</td>\n",
       "      <td>0.500000</td>\n",
       "      <td>0.0</td>\n",
       "      <td>0.0</td>\n",
       "      <td>0.0</td>\n",
       "      <td>0.0</td>\n",
       "      <td>20.0</td>\n",
       "      <td>0.0</td>\n",
       "      <td>13.0</td>\n",
       "      <td>0.0</td>\n",
       "    </tr>\n",
       "    <tr>\n",
       "      <td>guanine</td>\n",
       "      <td>0.715517</td>\n",
       "      <td>0.223214</td>\n",
       "      <td>0.878788</td>\n",
       "      <td>0.500000</td>\n",
       "      <td>0.0</td>\n",
       "      <td>0.0</td>\n",
       "      <td>0.0</td>\n",
       "      <td>0.0</td>\n",
       "      <td>29.0</td>\n",
       "      <td>0.0</td>\n",
       "      <td>4.0</td>\n",
       "      <td>0.0</td>\n",
       "    </tr>\n",
       "    <tr>\n",
       "      <td>thymine</td>\n",
       "      <td>0.430000</td>\n",
       "      <td>0.236081</td>\n",
       "      <td>0.757576</td>\n",
       "      <td>0.500000</td>\n",
       "      <td>0.0</td>\n",
       "      <td>0.0</td>\n",
       "      <td>0.0</td>\n",
       "      <td>0.0</td>\n",
       "      <td>25.0</td>\n",
       "      <td>0.0</td>\n",
       "      <td>8.0</td>\n",
       "      <td>0.0</td>\n",
       "    </tr>\n",
       "  </tbody>\n",
       "</table>\n",
       "<p>90 rows × 12 columns</p>\n",
       "</div>"
      ],
      "text/plain": [
       "                                                                            roc_auc_score  \\\n",
       "model    dataset                               task        target                           \n",
       "cae_1000 build_multivariate_dataset_cae_cached gap_filling adenine               0.897436   \n",
       "                                                           all_nucleotides       0.638021   \n",
       "                                                           cytosine              0.666667   \n",
       "                                                           guanine               0.435897   \n",
       "                                                           thymine               0.383333   \n",
       "...                                                                                   ...   \n",
       "cnn_500  build_synthetic_dataset_cnn_cached    gap_filling adenine               0.515000   \n",
       "                                                           all_nucleotides       0.590144   \n",
       "                                                           cytosine              0.573077   \n",
       "                                                           guanine               0.715517   \n",
       "                                                           thymine               0.430000   \n",
       "\n",
       "                                                                            average_precision_score  \\\n",
       "model    dataset                               task        target                                     \n",
       "cae_1000 build_multivariate_dataset_cae_cached gap_filling adenine                         0.722222   \n",
       "                                                           all_nucleotides                 0.382085   \n",
       "                                                           cytosine                        0.553571   \n",
       "                                                           guanine                         0.455556   \n",
       "                                                           thymine                         0.343359   \n",
       "...                                                                                             ...   \n",
       "cnn_500  build_synthetic_dataset_cnn_cached    gap_filling adenine                         0.256955   \n",
       "                                                           all_nucleotides                 0.296846   \n",
       "                                                           cytosine                        0.477833   \n",
       "                                                           guanine                         0.223214   \n",
       "                                                           thymine                         0.236081   \n",
       "\n",
       "                                                                            accuracy_score  \\\n",
       "model    dataset                               task        target                            \n",
       "cae_1000 build_multivariate_dataset_cae_cached gap_filling adenine                0.812500   \n",
       "                                                           all_nucleotides        0.437500   \n",
       "                                                           cytosine               0.750000   \n",
       "                                                           guanine                0.812500   \n",
       "                                                           thymine                0.625000   \n",
       "...                                                                                    ...   \n",
       "cnn_500  build_synthetic_dataset_cnn_cached    gap_filling adenine                0.757576   \n",
       "                                                           all_nucleotides        0.393939   \n",
       "                                                           cytosine               0.606061   \n",
       "                                                           guanine                0.878788   \n",
       "                                                           thymine                0.757576   \n",
       "\n",
       "                                                                            balanced_accuracy_score  \\\n",
       "model    dataset                               task        target                                     \n",
       "cae_1000 build_multivariate_dataset_cae_cached gap_filling adenine                         0.500000   \n",
       "                                                           all_nucleotides                 0.458333   \n",
       "                                                           cytosine                        0.500000   \n",
       "                                                           guanine                         0.500000   \n",
       "                                                           thymine                         0.500000   \n",
       "...                                                                                             ...   \n",
       "cnn_500  build_synthetic_dataset_cnn_cached    gap_filling adenine                         0.500000   \n",
       "                                                           all_nucleotides                 0.322115   \n",
       "                                                           cytosine                        0.500000   \n",
       "                                                           guanine                         0.500000   \n",
       "                                                           thymine                         0.500000   \n",
       "\n",
       "                                                                            f1_score  \\\n",
       "model    dataset                               task        target                      \n",
       "cae_1000 build_multivariate_dataset_cae_cached gap_filling adenine               0.0   \n",
       "                                                           all_nucleotides       NaN   \n",
       "                                                           cytosine              0.0   \n",
       "                                                           guanine               0.0   \n",
       "                                                           thymine               0.0   \n",
       "...                                                                              ...   \n",
       "cnn_500  build_synthetic_dataset_cnn_cached    gap_filling adenine               0.0   \n",
       "                                                           all_nucleotides       NaN   \n",
       "                                                           cytosine              0.0   \n",
       "                                                           guanine               0.0   \n",
       "                                                           thymine               0.0   \n",
       "\n",
       "                                                                            precision_score  \\\n",
       "model    dataset                               task        target                             \n",
       "cae_1000 build_multivariate_dataset_cae_cached gap_filling adenine                      0.0   \n",
       "                                                           all_nucleotides              NaN   \n",
       "                                                           cytosine                     0.0   \n",
       "                                                           guanine                      0.0   \n",
       "                                                           thymine                      0.0   \n",
       "...                                                                                     ...   \n",
       "cnn_500  build_synthetic_dataset_cnn_cached    gap_filling adenine                      0.0   \n",
       "                                                           all_nucleotides              NaN   \n",
       "                                                           cytosine                     0.0   \n",
       "                                                           guanine                      0.0   \n",
       "                                                           thymine                      0.0   \n",
       "\n",
       "                                                                            recall_score  \\\n",
       "model    dataset                               task        target                          \n",
       "cae_1000 build_multivariate_dataset_cae_cached gap_filling adenine                   0.0   \n",
       "                                                           all_nucleotides           NaN   \n",
       "                                                           cytosine                  0.0   \n",
       "                                                           guanine                   0.0   \n",
       "                                                           thymine                   0.0   \n",
       "...                                                                                  ...   \n",
       "cnn_500  build_synthetic_dataset_cnn_cached    gap_filling adenine                   0.0   \n",
       "                                                           all_nucleotides           NaN   \n",
       "                                                           cytosine                  0.0   \n",
       "                                                           guanine                   0.0   \n",
       "                                                           thymine                   0.0   \n",
       "\n",
       "                                                                            fall_out  \\\n",
       "model    dataset                               task        target                      \n",
       "cae_1000 build_multivariate_dataset_cae_cached gap_filling adenine               0.0   \n",
       "                                                           all_nucleotides       NaN   \n",
       "                                                           cytosine              0.0   \n",
       "                                                           guanine               0.0   \n",
       "                                                           thymine               0.0   \n",
       "...                                                                              ...   \n",
       "cnn_500  build_synthetic_dataset_cnn_cached    gap_filling adenine               0.0   \n",
       "                                                           all_nucleotides       NaN   \n",
       "                                                           cytosine              0.0   \n",
       "                                                           guanine               0.0   \n",
       "                                                           thymine               0.0   \n",
       "\n",
       "                                                                            true_negatives  \\\n",
       "model    dataset                               task        target                            \n",
       "cae_1000 build_multivariate_dataset_cae_cached gap_filling adenine                    13.0   \n",
       "                                                           all_nucleotides             NaN   \n",
       "                                                           cytosine                   12.0   \n",
       "                                                           guanine                    13.0   \n",
       "                                                           thymine                    10.0   \n",
       "...                                                                                    ...   \n",
       "cnn_500  build_synthetic_dataset_cnn_cached    gap_filling adenine                    25.0   \n",
       "                                                           all_nucleotides             NaN   \n",
       "                                                           cytosine                   20.0   \n",
       "                                                           guanine                    29.0   \n",
       "                                                           thymine                    25.0   \n",
       "\n",
       "                                                                            true_positives  \\\n",
       "model    dataset                               task        target                            \n",
       "cae_1000 build_multivariate_dataset_cae_cached gap_filling adenine                     0.0   \n",
       "                                                           all_nucleotides             NaN   \n",
       "                                                           cytosine                    0.0   \n",
       "                                                           guanine                     0.0   \n",
       "                                                           thymine                     0.0   \n",
       "...                                                                                    ...   \n",
       "cnn_500  build_synthetic_dataset_cnn_cached    gap_filling adenine                     0.0   \n",
       "                                                           all_nucleotides             NaN   \n",
       "                                                           cytosine                    0.0   \n",
       "                                                           guanine                     0.0   \n",
       "                                                           thymine                     0.0   \n",
       "\n",
       "                                                                            false_negatives  \\\n",
       "model    dataset                               task        target                             \n",
       "cae_1000 build_multivariate_dataset_cae_cached gap_filling adenine                      3.0   \n",
       "                                                           all_nucleotides              NaN   \n",
       "                                                           cytosine                     4.0   \n",
       "                                                           guanine                      3.0   \n",
       "                                                           thymine                      6.0   \n",
       "...                                                                                     ...   \n",
       "cnn_500  build_synthetic_dataset_cnn_cached    gap_filling adenine                      8.0   \n",
       "                                                           all_nucleotides              NaN   \n",
       "                                                           cytosine                    13.0   \n",
       "                                                           guanine                      4.0   \n",
       "                                                           thymine                      8.0   \n",
       "\n",
       "                                                                            false_positives  \n",
       "model    dataset                               task        target                            \n",
       "cae_1000 build_multivariate_dataset_cae_cached gap_filling adenine                      0.0  \n",
       "                                                           all_nucleotides              NaN  \n",
       "                                                           cytosine                     0.0  \n",
       "                                                           guanine                      0.0  \n",
       "                                                           thymine                      0.0  \n",
       "...                                                                                     ...  \n",
       "cnn_500  build_synthetic_dataset_cnn_cached    gap_filling adenine                      0.0  \n",
       "                                                           all_nucleotides              NaN  \n",
       "                                                           cytosine                     0.0  \n",
       "                                                           guanine                      0.0  \n",
       "                                                           thymine                      0.0  \n",
       "\n",
       "[90 rows x 12 columns]"
      ]
     },
     "execution_count": 16,
     "metadata": {},
     "output_type": "execute_result"
    }
   ],
   "source": [
    "pd.DataFrame(reports).groupby([\"model\", \"dataset\", \"task\", \"target\"]).mean()"
   ]
  },
  {
   "cell_type": "code",
   "execution_count": null,
   "metadata": {},
   "outputs": [],
   "source": []
  }
 ],
 "metadata": {
  "kernelspec": {
   "display_name": "Python 3",
   "language": "python",
   "name": "python3"
  },
  "language_info": {
   "codemirror_mode": {
    "name": "ipython",
    "version": 3
   },
   "file_extension": ".py",
   "mimetype": "text/x-python",
   "name": "python",
   "nbconvert_exporter": "python",
   "pygments_lexer": "ipython3",
   "version": "3.7.4"
  }
 },
 "nbformat": 4,
 "nbformat_minor": 2
}
