{
 "cells": [
  {
   "cell_type": "code",
   "execution_count": 2,
   "metadata": {},
   "outputs": [],
   "source": [
    "import compress_json\n",
    "import pandas as pd"
   ]
  },
  {
   "cell_type": "code",
   "execution_count": 3,
   "metadata": {},
   "outputs": [],
   "source": [
    "files = [\"souris.json\", \"fievel.json\"]"
   ]
  },
  {
   "cell_type": "code",
   "execution_count": 6,
   "metadata": {},
   "outputs": [],
   "source": [
    "informations = []\n",
    "for file in files:\n",
    "    data = compress_json.load(file)\n",
    "    informations.append({\n",
    "        \"model\":\"KNN imputer\",\n",
    "        \n",
    "    })\n",
    "    break"
   ]
  },
  {
   "cell_type": "code",
   "execution_count": 7,
   "metadata": {},
   "outputs": [
    {
     "data": {
      "text/plain": [
       "{'trained_on': 'build_synthetic_dataset_cae_cached',\n",
       " 'evaluated_on': 'build_multivariate_dataset_cae_cached',\n",
       " 'build_synthetic_dataset_cae_cached': {'train': {'train auroc': 0.8167548544337287,\n",
       "   'train auprc': 0.5369584979071647,\n",
       "   'train accuracy': 0.5284},\n",
       "  'test': {'test auroc': 0.5710995799242222,\n",
       "   'test auprc': 0.3038528153189536,\n",
       "   'test accuracy': 0.33405}},\n",
       " 'build_multivariate_dataset_cae_cached': {'train': {'train auroc': 0.5,\n",
       "   'train auprc': 0.24999999999999997,\n",
       "   'train accuracy': 0.2976},\n",
       "  'test': {'test auroc': 0.5, 'test auprc': 0.25, 'test accuracy': 0.28785}},\n",
       " 'BiologicalGapsSequence': {'bio': {'biological auroc': 0.5,\n",
       "   'biological auprc': 0.24999999999999997,\n",
       "   'biological accuracy': 0.7368421052631579}}}"
      ]
     },
     "execution_count": 7,
     "metadata": {},
     "output_type": "execute_result"
    }
   ],
   "source": [
    "data"
   ]
  },
  {
   "cell_type": "code",
   "execution_count": null,
   "metadata": {},
   "outputs": [],
   "source": []
  }
 ],
 "metadata": {
  "kernelspec": {
   "display_name": "Python 3",
   "language": "python",
   "name": "python3"
  },
  "language_info": {
   "codemirror_mode": {
    "name": "ipython",
    "version": 3
   },
   "file_extension": ".py",
   "mimetype": "text/x-python",
   "name": "python",
   "nbconvert_exporter": "python",
   "pygments_lexer": "ipython3",
   "version": "3.7.6"
  }
 },
 "nbformat": 4,
 "nbformat_minor": 4
}
