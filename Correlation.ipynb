{
 "cells": [
  {
   "cell_type": "code",
   "execution_count": 1,
   "metadata": {},
   "outputs": [],
   "source": [
    "import os\n",
    "import scipy\n",
    "import pandas as pd\n",
    "from pprint import pprint\n",
    "from scipy.stats import wilcoxon\n",
    "from itertools import combinations, product\n",
    "from sanitize_ml_labels import sanitize_ml_labels"
   ]
  },
  {
   "cell_type": "code",
   "execution_count": 2,
   "metadata": {},
   "outputs": [],
   "source": [
    "RESULT_PATH = \"./correlation/\"\n",
    "os.makedirs(RESULT_PATH, exist_ok=True)"
   ]
  },
  {
   "cell_type": "code",
   "execution_count": 3,
   "metadata": {},
   "outputs": [],
   "source": [
    "def sanitize_df(df):\n",
    "    df.columns = sanitize_ml_labels(df.columns)\n",
    "    df.index.names = list(\n",
    "        map(lambda x: x[:-1] if x[-1].isdigit() else x , \n",
    "            sanitize_ml_labels(df.index.names)\n",
    "        )\n",
    "    )\n",
    "    for col in df.columns[df.dtypes == object]:\n",
    "        df[col] = sanitize_ml_labels(df[col])\n",
    "        \n",
    "    return df"
   ]
  },
  {
   "cell_type": "code",
   "execution_count": 4,
   "metadata": {},
   "outputs": [],
   "source": [
    "df = pd.concat([\n",
    "    pd.read_csv(\"./reports/\"+file, index_col=0)\n",
    "    for file in os.listdir(\"./reports/\")\n",
    "])\n",
    "df = df.drop(\"dataset\", axis=1)\n",
    "df = df[df.run_type != \"biological validation\"]"
   ]
  },
  {
   "cell_type": "code",
   "execution_count": 5,
   "metadata": {},
   "outputs": [],
   "source": [
    "df[\"window_size\"] = [\n",
    "    int(x.split(\"_\")[1])\n",
    "    for x in df.model.values\n",
    "]"
   ]
  },
  {
   "cell_type": "code",
   "execution_count": 6,
   "metadata": {},
   "outputs": [],
   "source": [
    "df[\"model_type\"] = [\n",
    "    x.split(\"_\")[0]\n",
    "    for x in df.model.values\n",
    "]"
   ]
  },
  {
   "cell_type": "code",
   "execution_count": 7,
   "metadata": {},
   "outputs": [
    {
     "data": {
      "text/html": [
       "<div>\n",
       "<style scoped>\n",
       "    .dataframe tbody tr th:only-of-type {\n",
       "        vertical-align: middle;\n",
       "    }\n",
       "\n",
       "    .dataframe tbody tr th {\n",
       "        vertical-align: top;\n",
       "    }\n",
       "\n",
       "    .dataframe thead th {\n",
       "        text-align: right;\n",
       "    }\n",
       "</style>\n",
       "<table border=\"1\" class=\"dataframe\">\n",
       "  <thead>\n",
       "    <tr style=\"text-align: right;\">\n",
       "      <th></th>\n",
       "      <th>model</th>\n",
       "      <th>trained_on</th>\n",
       "      <th>task</th>\n",
       "      <th>target</th>\n",
       "      <th>run_type</th>\n",
       "      <th>roc_auc_score</th>\n",
       "      <th>average_precision_score</th>\n",
       "      <th>accuracy_score</th>\n",
       "      <th>window_size</th>\n",
       "      <th>model_type</th>\n",
       "    </tr>\n",
       "  </thead>\n",
       "  <tbody>\n",
       "    <tr>\n",
       "      <th>0</th>\n",
       "      <td>cae_500</td>\n",
       "      <td>multivariate_gaps_with_weight_2</td>\n",
       "      <td>reconstruction</td>\n",
       "      <td>all_nucleotides</td>\n",
       "      <td>multivariate gaps test</td>\n",
       "      <td>0.882948</td>\n",
       "      <td>0.778071</td>\n",
       "      <td>0.640812</td>\n",
       "      <td>500</td>\n",
       "      <td>cae</td>\n",
       "    </tr>\n",
       "    <tr>\n",
       "      <th>1</th>\n",
       "      <td>cae_500</td>\n",
       "      <td>multivariate_gaps_with_weight_2</td>\n",
       "      <td>reconstruction</td>\n",
       "      <td>adenine</td>\n",
       "      <td>multivariate gaps test</td>\n",
       "      <td>0.868955</td>\n",
       "      <td>0.777267</td>\n",
       "      <td>0.828147</td>\n",
       "      <td>500</td>\n",
       "      <td>cae</td>\n",
       "    </tr>\n",
       "    <tr>\n",
       "      <th>2</th>\n",
       "      <td>cae_500</td>\n",
       "      <td>multivariate_gaps_with_weight_2</td>\n",
       "      <td>reconstruction</td>\n",
       "      <td>cytosine</td>\n",
       "      <td>multivariate gaps test</td>\n",
       "      <td>0.891547</td>\n",
       "      <td>0.774009</td>\n",
       "      <td>0.883621</td>\n",
       "      <td>500</td>\n",
       "      <td>cae</td>\n",
       "    </tr>\n",
       "    <tr>\n",
       "      <th>3</th>\n",
       "      <td>cae_500</td>\n",
       "      <td>multivariate_gaps_with_weight_2</td>\n",
       "      <td>reconstruction</td>\n",
       "      <td>thymine</td>\n",
       "      <td>multivariate gaps test</td>\n",
       "      <td>0.881032</td>\n",
       "      <td>0.803004</td>\n",
       "      <td>0.838942</td>\n",
       "      <td>500</td>\n",
       "      <td>cae</td>\n",
       "    </tr>\n",
       "    <tr>\n",
       "      <th>4</th>\n",
       "      <td>cae_500</td>\n",
       "      <td>multivariate_gaps_with_weight_2</td>\n",
       "      <td>reconstruction</td>\n",
       "      <td>guanine</td>\n",
       "      <td>multivariate gaps test</td>\n",
       "      <td>0.879461</td>\n",
       "      <td>0.743368</td>\n",
       "      <td>0.872183</td>\n",
       "      <td>500</td>\n",
       "      <td>cae</td>\n",
       "    </tr>\n",
       "    <tr>\n",
       "      <th>...</th>\n",
       "      <td>...</td>\n",
       "      <td>...</td>\n",
       "      <td>...</td>\n",
       "      <td>...</td>\n",
       "      <td>...</td>\n",
       "      <td>...</td>\n",
       "      <td>...</td>\n",
       "      <td>...</td>\n",
       "      <td>...</td>\n",
       "      <td>...</td>\n",
       "    </tr>\n",
       "    <tr>\n",
       "      <th>5</th>\n",
       "      <td>cae_200</td>\n",
       "      <td>single_gap_with_weight_10</td>\n",
       "      <td>gap_filling</td>\n",
       "      <td>all_nucleotides</td>\n",
       "      <td>single gap train</td>\n",
       "      <td>0.668916</td>\n",
       "      <td>0.399340</td>\n",
       "      <td>0.389316</td>\n",
       "      <td>200</td>\n",
       "      <td>cae</td>\n",
       "    </tr>\n",
       "    <tr>\n",
       "      <th>6</th>\n",
       "      <td>cae_200</td>\n",
       "      <td>single_gap_with_weight_10</td>\n",
       "      <td>gap_filling</td>\n",
       "      <td>adenine</td>\n",
       "      <td>single gap train</td>\n",
       "      <td>0.636148</td>\n",
       "      <td>0.417454</td>\n",
       "      <td>0.707900</td>\n",
       "      <td>200</td>\n",
       "      <td>cae</td>\n",
       "    </tr>\n",
       "    <tr>\n",
       "      <th>7</th>\n",
       "      <td>cae_200</td>\n",
       "      <td>single_gap_with_weight_10</td>\n",
       "      <td>gap_filling</td>\n",
       "      <td>cytosine</td>\n",
       "      <td>single gap train</td>\n",
       "      <td>0.686190</td>\n",
       "      <td>0.368543</td>\n",
       "      <td>0.801729</td>\n",
       "      <td>200</td>\n",
       "      <td>cae</td>\n",
       "    </tr>\n",
       "    <tr>\n",
       "      <th>8</th>\n",
       "      <td>cae_200</td>\n",
       "      <td>single_gap_with_weight_10</td>\n",
       "      <td>gap_filling</td>\n",
       "      <td>thymine</td>\n",
       "      <td>single gap train</td>\n",
       "      <td>0.631204</td>\n",
       "      <td>0.413160</td>\n",
       "      <td>0.708584</td>\n",
       "      <td>200</td>\n",
       "      <td>cae</td>\n",
       "    </tr>\n",
       "    <tr>\n",
       "      <th>9</th>\n",
       "      <td>cae_200</td>\n",
       "      <td>single_gap_with_weight_10</td>\n",
       "      <td>gap_filling</td>\n",
       "      <td>guanine</td>\n",
       "      <td>single gap train</td>\n",
       "      <td>0.682447</td>\n",
       "      <td>0.366429</td>\n",
       "      <td>0.799277</td>\n",
       "      <td>200</td>\n",
       "      <td>cae</td>\n",
       "    </tr>\n",
       "  </tbody>\n",
       "</table>\n",
       "<p>840 rows × 10 columns</p>\n",
       "</div>"
      ],
      "text/plain": [
       "      model                       trained_on            task           target  \\\n",
       "0   cae_500  multivariate_gaps_with_weight_2  reconstruction  all_nucleotides   \n",
       "1   cae_500  multivariate_gaps_with_weight_2  reconstruction          adenine   \n",
       "2   cae_500  multivariate_gaps_with_weight_2  reconstruction         cytosine   \n",
       "3   cae_500  multivariate_gaps_with_weight_2  reconstruction          thymine   \n",
       "4   cae_500  multivariate_gaps_with_weight_2  reconstruction          guanine   \n",
       "..      ...                              ...             ...              ...   \n",
       "5   cae_200        single_gap_with_weight_10     gap_filling  all_nucleotides   \n",
       "6   cae_200        single_gap_with_weight_10     gap_filling          adenine   \n",
       "7   cae_200        single_gap_with_weight_10     gap_filling         cytosine   \n",
       "8   cae_200        single_gap_with_weight_10     gap_filling          thymine   \n",
       "9   cae_200        single_gap_with_weight_10     gap_filling          guanine   \n",
       "\n",
       "                  run_type  roc_auc_score  average_precision_score  \\\n",
       "0   multivariate gaps test       0.882948                 0.778071   \n",
       "1   multivariate gaps test       0.868955                 0.777267   \n",
       "2   multivariate gaps test       0.891547                 0.774009   \n",
       "3   multivariate gaps test       0.881032                 0.803004   \n",
       "4   multivariate gaps test       0.879461                 0.743368   \n",
       "..                     ...            ...                      ...   \n",
       "5         single gap train       0.668916                 0.399340   \n",
       "6         single gap train       0.636148                 0.417454   \n",
       "7         single gap train       0.686190                 0.368543   \n",
       "8         single gap train       0.631204                 0.413160   \n",
       "9         single gap train       0.682447                 0.366429   \n",
       "\n",
       "    accuracy_score  window_size model_type  \n",
       "0         0.640812          500        cae  \n",
       "1         0.828147          500        cae  \n",
       "2         0.883621          500        cae  \n",
       "3         0.838942          500        cae  \n",
       "4         0.872183          500        cae  \n",
       "..             ...          ...        ...  \n",
       "5         0.389316          200        cae  \n",
       "6         0.707900          200        cae  \n",
       "7         0.801729          200        cae  \n",
       "8         0.708584          200        cae  \n",
       "9         0.799277          200        cae  \n",
       "\n",
       "[840 rows x 10 columns]"
      ]
     },
     "execution_count": 7,
     "metadata": {},
     "output_type": "execute_result"
    }
   ],
   "source": [
    "df"
   ]
  },
  {
   "cell_type": "markdown",
   "metadata": {},
   "source": [
    "# CAE model analysis"
   ]
  },
  {
   "cell_type": "code",
   "execution_count": 8,
   "metadata": {},
   "outputs": [],
   "source": [
    "df_cae = df[df.model_type == \"cae\"]"
   ]
  },
  {
   "cell_type": "code",
   "execution_count": 9,
   "metadata": {},
   "outputs": [],
   "source": [
    "def analyze(df, target=None):\n",
    "    if target:\n",
    "        df = df[df.target == target]\n",
    "    gaps = df[df.task == \"gap_filling\"]\n",
    "    rec = df[df.task == \"reconstruction\"]\n",
    "    print(\"Pearson\")\n",
    "    print(\"ACC \", scipy.stats.pearsonr(gaps.accuracy_score, rec.accuracy_score))\n",
    "    print(\"PRC \", scipy.stats.pearsonr(gaps.average_precision_score, rec.average_precision_score))\n",
    "    print(\"ROC \", scipy.stats.pearsonr(gaps.roc_auc_score, rec.roc_auc_score))\n",
    "    print(\"Spearmanr\")\n",
    "    print(\"ACC \", scipy.stats.spearmanr(gaps.accuracy_score, rec.accuracy_score))\n",
    "    print(\"PRC \", scipy.stats.spearmanr(gaps.average_precision_score, rec.average_precision_score))\n",
    "    print(\"ROC \", scipy.stats.spearmanr(gaps.roc_auc_score, rec.roc_auc_score))\n",
    "    "
   ]
  },
  {
   "cell_type": "markdown",
   "metadata": {},
   "source": [
    "### Gap filling and recostruction correlation"
   ]
  },
  {
   "cell_type": "code",
   "execution_count": 10,
   "metadata": {},
   "outputs": [
    {
     "name": "stdout",
     "output_type": "stream",
     "text": [
      "General\n",
      "Pearson\n",
      "ACC  (0.4904552499820177, 3.468122999737208e-23)\n",
      "PRC  (-0.45900615308634674, 3.682306051689224e-20)\n",
      "ROC  (-0.13386658432532747, 0.011004367119300848)\n",
      "Spearmanr\n",
      "ACC  SpearmanrResult(correlation=0.2307813341840152, pvalue=9.716279355216207e-06)\n",
      "PRC  SpearmanrResult(correlation=-0.40026389092508424, pvalue=2.771308564091817e-15)\n",
      "ROC  SpearmanrResult(correlation=-0.06288731651735996, pvalue=0.2339553543523421)\n",
      "\n",
      "\n",
      "all_nucleotides\n",
      "Pearson\n",
      "ACC  (-0.1457585832073195, 0.22182346684359103)\n",
      "PRC  (-0.5901878473894278, 4.868158280856321e-08)\n",
      "ROC  (-0.2211255812203224, 0.061949905177918506)\n",
      "Spearmanr\n",
      "ACC  SpearmanrResult(correlation=-0.21345424143031713, pvalue=0.07180839206730805)\n",
      "PRC  SpearmanrResult(correlation=-0.4721525500032157, pvalue=2.824305207687442e-05)\n",
      "ROC  SpearmanrResult(correlation=-0.11306193324329541, pvalue=0.34434821652479164)\n",
      "\n",
      "\n",
      "adenine\n",
      "Pearson\n",
      "ACC  (-0.38979842899745487, 0.0007128160467629724)\n",
      "PRC  (-0.6662114886158754, 1.6944057135936033e-10)\n",
      "ROC  (-0.47664522078894866, 2.3099680248500978e-05)\n",
      "Spearmanr\n",
      "ACC  SpearmanrResult(correlation=-0.531726571875275, pvalue=1.5374654219451015e-06)\n",
      "PRC  SpearmanrResult(correlation=-0.5298733037494374, pvalue=1.697577345457271e-06)\n",
      "ROC  SpearmanrResult(correlation=-0.37960640555662745, pvalue=0.0010064341565911273)\n",
      "\n",
      "\n",
      "cytosine\n",
      "Pearson\n",
      "ACC  (-0.535640065087258, 1.2448248143557267e-06)\n",
      "PRC  (-0.5296089212559267, 1.7216565459625521e-06)\n",
      "ROC  (0.0709513396069924, 0.553681432013191)\n",
      "Spearmanr\n",
      "ACC  SpearmanrResult(correlation=-0.5513099822512564, pvalue=5.201604904014296e-07)\n",
      "PRC  SpearmanrResult(correlation=-0.4383561643835617, pvalue=0.00011748452508902998)\n",
      "ROC  SpearmanrResult(correlation=0.2395330889446267, pvalue=0.04270955139118599)\n",
      "\n",
      "\n",
      "thymine\n",
      "Pearson\n",
      "ACC  (-0.3435090294574846, 0.0031346238295027868)\n",
      "PRC  (-0.5838675548899855, 7.308122570088967e-08)\n",
      "ROC  (-0.34058232236490815, 0.003417862943719698)\n",
      "Spearmanr\n",
      "ACC  SpearmanrResult(correlation=-0.5656036208590131, pvalue=2.255252101973313e-07)\n",
      "PRC  SpearmanrResult(correlation=-0.49331146697536826, pvalue=1.0686003376212467e-05)\n",
      "ROC  SpearmanrResult(correlation=-0.2778313717923983, pvalue=0.01813043445630634)\n",
      "\n",
      "\n",
      "guanine\n",
      "Pearson\n",
      "ACC  (-0.5747092655620164, 1.2969482262609265e-07)\n",
      "PRC  (-0.453792113078998, 6.241409303849241e-05)\n",
      "ROC  (0.06186440411944098, 0.6056835589382503)\n",
      "Spearmanr\n",
      "ACC  SpearmanrResult(correlation=-0.590074844662169, pvalue=4.9040231938927054e-08)\n",
      "PRC  SpearmanrResult(correlation=-0.3590906167599203, pvalue=0.001950427437647793)\n",
      "ROC  SpearmanrResult(correlation=0.2370248890603898, pvalue=0.04499628488115803)\n"
     ]
    }
   ],
   "source": [
    "print(\"General\")\n",
    "analyze(df_cae)\n",
    "for target in df_cae.target.unique():\n",
    "    print(\"\\n\\n\" + target)\n",
    "    analyze(df_cae, target)"
   ]
  },
  {
   "cell_type": "markdown",
   "metadata": {},
   "source": [
    "### Window size and performance correlation"
   ]
  },
  {
   "cell_type": "code",
   "execution_count": 11,
   "metadata": {
    "scrolled": true
   },
   "outputs": [
    {
     "name": "stdout",
     "output_type": "stream",
     "text": [
      "ACC  (-0.7270641502002068, 1.972939630077375e-60)\n",
      "PRC  (-0.9759434088015936, 6.603103753455906e-239)\n",
      "ROC  (-0.9837087548965502, 6.60921784027039e-269)\n",
      "ACC  SpearmanrResult(correlation=-0.8408383215172114, pvalue=1.8466236226194634e-97)\n",
      "PRC  SpearmanrResult(correlation=-0.9428126789836747, pvalue=6.85347982782517e-173)\n",
      "ROC  SpearmanrResult(correlation=-0.9428126789836747, pvalue=6.85347982782517e-173)\n"
     ]
    }
   ],
   "source": [
    "rec = df_cae[df_cae.task == \"reconstruction\"]\n",
    "print(\"ACC \", scipy.stats.pearsonr(rec.window_size, rec.accuracy_score))\n",
    "print(\"PRC \", scipy.stats.pearsonr(rec.window_size, rec.average_precision_score))\n",
    "print(\"ROC \", scipy.stats.pearsonr(rec.window_size, rec.roc_auc_score))\n",
    "print(\"ACC \", scipy.stats.spearmanr(rec.window_size, rec.accuracy_score))\n",
    "print(\"PRC \", scipy.stats.spearmanr(rec.window_size, rec.average_precision_score))\n",
    "print(\"ROC \", scipy.stats.spearmanr(rec.window_size, rec.roc_auc_score))"
   ]
  },
  {
   "cell_type": "code",
   "execution_count": 12,
   "metadata": {},
   "outputs": [
    {
     "name": "stdout",
     "output_type": "stream",
     "text": [
      "ACC  (0.05754402533024341, 0.2761862886984938)\n",
      "PRC  (0.5815789025984608, 5.805660440624179e-34)\n",
      "ROC  (0.22783844582930485, 1.2686414373432279e-05)\n",
      "ACC  SpearmanrResult(correlation=0.22221581060900633, pvalue=2.0914099376175878e-05)\n",
      "PRC  SpearmanrResult(correlation=0.5366502863395618, pvalue=3.0668739255532884e-28)\n",
      "ROC  SpearmanrResult(correlation=0.1510464479455096, pvalue=0.004073209040056278)\n"
     ]
    }
   ],
   "source": [
    "gaps = df_cae[df_cae.task == \"gap_filling\"]\n",
    "print(\"ACC \", scipy.stats.pearsonr(gaps.window_size, gaps.accuracy_score))\n",
    "print(\"PRC \", scipy.stats.pearsonr(gaps.window_size, gaps.average_precision_score))\n",
    "print(\"ROC \", scipy.stats.pearsonr(gaps.window_size, gaps.roc_auc_score))\n",
    "print(\"ACC \", scipy.stats.spearmanr(gaps.window_size, gaps.accuracy_score))\n",
    "print(\"PRC \", scipy.stats.spearmanr(gaps.window_size, gaps.average_precision_score))\n",
    "print(\"ROC \", scipy.stats.spearmanr(gaps.window_size, gaps.roc_auc_score))"
   ]
  },
  {
   "cell_type": "markdown",
   "metadata": {},
   "source": [
    "# CNN analysis"
   ]
  },
  {
   "cell_type": "code",
   "execution_count": 13,
   "metadata": {},
   "outputs": [],
   "source": [
    "df_cnn = df[df.model_type == \"cnn\"]"
   ]
  },
  {
   "cell_type": "markdown",
   "metadata": {},
   "source": [
    "### Window size and performance correlation"
   ]
  },
  {
   "cell_type": "code",
   "execution_count": 14,
   "metadata": {},
   "outputs": [
    {
     "name": "stdout",
     "output_type": "stream",
     "text": [
      "ACC  (0.02621780038693372, 0.776223122135287)\n",
      "PRC  (0.028982130532245944, 0.7533491853906168)\n",
      "ROC  (0.04773408034671381, 0.6046517145993185)\n",
      "ACC  SpearmanrResult(correlation=0.0026517563176666455, pvalue=0.9770683378676717)\n",
      "PRC  SpearmanrResult(correlation=-0.11490884190242913, pvalue=0.21139742045523957)\n",
      "ROC  SpearmanrResult(correlation=-0.02622278699824665, pvalue=0.7761816799226504)\n"
     ]
    }
   ],
   "source": [
    "gaps = df_cnn[df_cnn.task == \"gap_filling\"]\n",
    "print(\"ACC \", scipy.stats.pearsonr(gaps.window_size, gaps.accuracy_score))\n",
    "print(\"PRC \", scipy.stats.pearsonr(gaps.window_size, gaps.average_precision_score))\n",
    "print(\"ROC \", scipy.stats.pearsonr(gaps.window_size, gaps.roc_auc_score))\n",
    "print(\"ACC \", scipy.stats.spearmanr(gaps.window_size, gaps.accuracy_score))\n",
    "print(\"PRC \", scipy.stats.spearmanr(gaps.window_size, gaps.average_precision_score))\n",
    "print(\"ROC \", scipy.stats.spearmanr(gaps.window_size, gaps.roc_auc_score))"
   ]
  },
  {
   "cell_type": "code",
   "execution_count": null,
   "metadata": {},
   "outputs": [],
   "source": []
  }
 ],
 "metadata": {
  "kernelspec": {
   "display_name": "Python 3",
   "language": "python",
   "name": "python3"
  },
  "language_info": {
   "codemirror_mode": {
    "name": "ipython",
    "version": 3
   },
   "file_extension": ".py",
   "mimetype": "text/x-python",
   "name": "python",
   "nbconvert_exporter": "python",
   "pygments_lexer": "ipython3",
   "version": "3.7.4"
  }
 },
 "nbformat": 4,
 "nbformat_minor": 2
}
