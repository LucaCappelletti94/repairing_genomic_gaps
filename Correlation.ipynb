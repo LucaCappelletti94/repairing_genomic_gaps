{
 "cells": [
  {
   "cell_type": "code",
   "execution_count": 1,
   "metadata": {},
   "outputs": [],
   "source": [
    "import os\n",
    "import scipy\n",
    "import pandas as pd\n",
    "from pprint import pprint\n",
    "from scipy.stats import wilcoxon\n",
    "from itertools import combinations, product\n",
    "from sanitize_ml_labels import sanitize_ml_labels"
   ]
  },
  {
   "cell_type": "code",
   "execution_count": 2,
   "metadata": {},
   "outputs": [],
   "source": [
    "RESULT_PATH = \"./correlation/\"\n",
    "os.makedirs(RESULT_PATH, exist_ok=True)"
   ]
  },
  {
   "cell_type": "code",
   "execution_count": 3,
   "metadata": {},
   "outputs": [],
   "source": [
    "def sanitize_df(df):\n",
    "    df.columns = sanitize_ml_labels(df.columns)\n",
    "    df.index.names = list(\n",
    "        map(lambda x: x[:-1] if x[-1].isdigit() else x , \n",
    "            sanitize_ml_labels(df.index.names)\n",
    "        )\n",
    "    )\n",
    "    for col in df.columns[df.dtypes == object]:\n",
    "        df[col] = sanitize_ml_labels(df[col])\n",
    "        \n",
    "    return df"
   ]
  },
  {
   "cell_type": "code",
   "execution_count": 4,
   "metadata": {},
   "outputs": [],
   "source": [
    "df = pd.concat([\n",
    "    pd.read_csv(\"./reports/\"+file, index_col=0)\n",
    "    for file in os.listdir(\"./reports/\")\n",
    "])\n",
    "df = df.drop(\"dataset\", axis=1)\n",
    "df = df[df.run_type != \"biological validation\"]"
   ]
  },
  {
   "cell_type": "code",
   "execution_count": 5,
   "metadata": {},
   "outputs": [],
   "source": [
    "df[\"window_size\"] = [\n",
    "    int(x.split(\"_\")[1])\n",
    "    for x in df.model.values\n",
    "]"
   ]
  },
  {
   "cell_type": "code",
   "execution_count": 6,
   "metadata": {},
   "outputs": [],
   "source": [
    "df[\"model_type\"] = [\n",
    "    x.split(\"_\")[0]\n",
    "    for x in df.model.values\n",
    "]"
   ]
  },
  {
   "cell_type": "code",
   "execution_count": 7,
   "metadata": {},
   "outputs": [
    {
     "data": {
      "text/html": [
       "<div>\n",
       "<style scoped>\n",
       "    .dataframe tbody tr th:only-of-type {\n",
       "        vertical-align: middle;\n",
       "    }\n",
       "\n",
       "    .dataframe tbody tr th {\n",
       "        vertical-align: top;\n",
       "    }\n",
       "\n",
       "    .dataframe thead th {\n",
       "        text-align: right;\n",
       "    }\n",
       "</style>\n",
       "<table border=\"1\" class=\"dataframe\">\n",
       "  <thead>\n",
       "    <tr style=\"text-align: right;\">\n",
       "      <th></th>\n",
       "      <th>model</th>\n",
       "      <th>trained_on</th>\n",
       "      <th>task</th>\n",
       "      <th>target</th>\n",
       "      <th>run_type</th>\n",
       "      <th>roc_auc_score</th>\n",
       "      <th>average_precision_score</th>\n",
       "      <th>accuracy_score</th>\n",
       "      <th>window_size</th>\n",
       "      <th>model_type</th>\n",
       "    </tr>\n",
       "  </thead>\n",
       "  <tbody>\n",
       "    <tr>\n",
       "      <th>0</th>\n",
       "      <td>cnn_500</td>\n",
       "      <td>single_gap</td>\n",
       "      <td>gap_filling</td>\n",
       "      <td>all_nucleotides</td>\n",
       "      <td>multivariate gaps train</td>\n",
       "      <td>0.613213</td>\n",
       "      <td>0.343835</td>\n",
       "      <td>0.368223</td>\n",
       "      <td>500</td>\n",
       "      <td>cnn</td>\n",
       "    </tr>\n",
       "    <tr>\n",
       "      <th>1</th>\n",
       "      <td>cnn_500</td>\n",
       "      <td>single_gap</td>\n",
       "      <td>gap_filling</td>\n",
       "      <td>adenine</td>\n",
       "      <td>multivariate gaps train</td>\n",
       "      <td>0.593924</td>\n",
       "      <td>0.378336</td>\n",
       "      <td>0.671299</td>\n",
       "      <td>500</td>\n",
       "      <td>cnn</td>\n",
       "    </tr>\n",
       "    <tr>\n",
       "      <th>2</th>\n",
       "      <td>cnn_500</td>\n",
       "      <td>single_gap</td>\n",
       "      <td>gap_filling</td>\n",
       "      <td>cytosine</td>\n",
       "      <td>multivariate gaps train</td>\n",
       "      <td>0.619264</td>\n",
       "      <td>0.316755</td>\n",
       "      <td>0.775205</td>\n",
       "      <td>500</td>\n",
       "      <td>cnn</td>\n",
       "    </tr>\n",
       "    <tr>\n",
       "      <th>3</th>\n",
       "      <td>cnn_500</td>\n",
       "      <td>single_gap</td>\n",
       "      <td>gap_filling</td>\n",
       "      <td>thymine</td>\n",
       "      <td>multivariate gaps train</td>\n",
       "      <td>0.594738</td>\n",
       "      <td>0.370109</td>\n",
       "      <td>0.650293</td>\n",
       "      <td>500</td>\n",
       "      <td>cnn</td>\n",
       "    </tr>\n",
       "    <tr>\n",
       "      <th>4</th>\n",
       "      <td>cnn_500</td>\n",
       "      <td>single_gap</td>\n",
       "      <td>gap_filling</td>\n",
       "      <td>guanine</td>\n",
       "      <td>multivariate gaps train</td>\n",
       "      <td>0.614865</td>\n",
       "      <td>0.292196</td>\n",
       "      <td>0.736641</td>\n",
       "      <td>500</td>\n",
       "      <td>cnn</td>\n",
       "    </tr>\n",
       "    <tr>\n",
       "      <th>...</th>\n",
       "      <td>...</td>\n",
       "      <td>...</td>\n",
       "      <td>...</td>\n",
       "      <td>...</td>\n",
       "      <td>...</td>\n",
       "      <td>...</td>\n",
       "      <td>...</td>\n",
       "      <td>...</td>\n",
       "      <td>...</td>\n",
       "      <td>...</td>\n",
       "    </tr>\n",
       "    <tr>\n",
       "      <th>0</th>\n",
       "      <td>cnn_1000</td>\n",
       "      <td>single_gap</td>\n",
       "      <td>gap_filling</td>\n",
       "      <td>all_nucleotides</td>\n",
       "      <td>multivariate gaps test</td>\n",
       "      <td>0.636623</td>\n",
       "      <td>0.372396</td>\n",
       "      <td>0.373535</td>\n",
       "      <td>1000</td>\n",
       "      <td>cnn</td>\n",
       "    </tr>\n",
       "    <tr>\n",
       "      <th>1</th>\n",
       "      <td>cnn_1000</td>\n",
       "      <td>single_gap</td>\n",
       "      <td>gap_filling</td>\n",
       "      <td>adenine</td>\n",
       "      <td>multivariate gaps test</td>\n",
       "      <td>0.612027</td>\n",
       "      <td>0.374539</td>\n",
       "      <td>0.665840</td>\n",
       "      <td>1000</td>\n",
       "      <td>cnn</td>\n",
       "    </tr>\n",
       "    <tr>\n",
       "      <th>2</th>\n",
       "      <td>cnn_1000</td>\n",
       "      <td>single_gap</td>\n",
       "      <td>gap_filling</td>\n",
       "      <td>cytosine</td>\n",
       "      <td>multivariate gaps test</td>\n",
       "      <td>0.647463</td>\n",
       "      <td>0.359355</td>\n",
       "      <td>0.775117</td>\n",
       "      <td>1000</td>\n",
       "      <td>cnn</td>\n",
       "    </tr>\n",
       "    <tr>\n",
       "      <th>3</th>\n",
       "      <td>cnn_1000</td>\n",
       "      <td>single_gap</td>\n",
       "      <td>gap_filling</td>\n",
       "      <td>thymine</td>\n",
       "      <td>multivariate gaps test</td>\n",
       "      <td>0.617989</td>\n",
       "      <td>0.404111</td>\n",
       "      <td>0.708740</td>\n",
       "      <td>1000</td>\n",
       "      <td>cnn</td>\n",
       "    </tr>\n",
       "    <tr>\n",
       "      <th>4</th>\n",
       "      <td>cnn_1000</td>\n",
       "      <td>single_gap</td>\n",
       "      <td>gap_filling</td>\n",
       "      <td>guanine</td>\n",
       "      <td>multivariate gaps test</td>\n",
       "      <td>0.642413</td>\n",
       "      <td>0.354627</td>\n",
       "      <td>0.781533</td>\n",
       "      <td>1000</td>\n",
       "      <td>cnn</td>\n",
       "    </tr>\n",
       "  </tbody>\n",
       "</table>\n",
       "<p>360 rows × 10 columns</p>\n",
       "</div>"
      ],
      "text/plain": [
       "       model  trained_on         task           target  \\\n",
       "0    cnn_500  single_gap  gap_filling  all_nucleotides   \n",
       "1    cnn_500  single_gap  gap_filling          adenine   \n",
       "2    cnn_500  single_gap  gap_filling         cytosine   \n",
       "3    cnn_500  single_gap  gap_filling          thymine   \n",
       "4    cnn_500  single_gap  gap_filling          guanine   \n",
       "..       ...         ...          ...              ...   \n",
       "0   cnn_1000  single_gap  gap_filling  all_nucleotides   \n",
       "1   cnn_1000  single_gap  gap_filling          adenine   \n",
       "2   cnn_1000  single_gap  gap_filling         cytosine   \n",
       "3   cnn_1000  single_gap  gap_filling          thymine   \n",
       "4   cnn_1000  single_gap  gap_filling          guanine   \n",
       "\n",
       "                   run_type  roc_auc_score  average_precision_score  \\\n",
       "0   multivariate gaps train       0.613213                 0.343835   \n",
       "1   multivariate gaps train       0.593924                 0.378336   \n",
       "2   multivariate gaps train       0.619264                 0.316755   \n",
       "3   multivariate gaps train       0.594738                 0.370109   \n",
       "4   multivariate gaps train       0.614865                 0.292196   \n",
       "..                      ...            ...                      ...   \n",
       "0    multivariate gaps test       0.636623                 0.372396   \n",
       "1    multivariate gaps test       0.612027                 0.374539   \n",
       "2    multivariate gaps test       0.647463                 0.359355   \n",
       "3    multivariate gaps test       0.617989                 0.404111   \n",
       "4    multivariate gaps test       0.642413                 0.354627   \n",
       "\n",
       "    accuracy_score  window_size model_type  \n",
       "0         0.368223          500        cnn  \n",
       "1         0.671299          500        cnn  \n",
       "2         0.775205          500        cnn  \n",
       "3         0.650293          500        cnn  \n",
       "4         0.736641          500        cnn  \n",
       "..             ...          ...        ...  \n",
       "0         0.373535         1000        cnn  \n",
       "1         0.665840         1000        cnn  \n",
       "2         0.775117         1000        cnn  \n",
       "3         0.708740         1000        cnn  \n",
       "4         0.781533         1000        cnn  \n",
       "\n",
       "[360 rows x 10 columns]"
      ]
     },
     "execution_count": 7,
     "metadata": {},
     "output_type": "execute_result"
    }
   ],
   "source": [
    "df"
   ]
  },
  {
   "cell_type": "markdown",
   "metadata": {},
   "source": [
    "# CAE model analysis"
   ]
  },
  {
   "cell_type": "code",
   "execution_count": 8,
   "metadata": {},
   "outputs": [],
   "source": [
    "df_cae = df[df.model_type == \"cae\"]"
   ]
  },
  {
   "cell_type": "code",
   "execution_count": 9,
   "metadata": {},
   "outputs": [],
   "source": [
    "def analyze(df, target=None):\n",
    "    if target:\n",
    "        df = df[df.target == target]\n",
    "    gaps = df[df.task == \"gap_filling\"]\n",
    "    rec = df[df.task == \"reconstruction\"]\n",
    "    print(\"Pearson\")\n",
    "    print(\"ACC \", scipy.stats.pearsonr(gaps.accuracy_score, rec.accuracy_score))\n",
    "    print(\"PRC \", scipy.stats.pearsonr(gaps.average_precision_score, rec.average_precision_score))\n",
    "    print(\"ROC \", scipy.stats.pearsonr(gaps.roc_auc_score, rec.roc_auc_score))\n",
    "    print(\"Spearmanr\")\n",
    "    print(\"ACC \", scipy.stats.spearmanr(gaps.accuracy_score, rec.accuracy_score))\n",
    "    print(\"PRC \", scipy.stats.spearmanr(gaps.average_precision_score, rec.average_precision_score))\n",
    "    print(\"ROC \", scipy.stats.spearmanr(gaps.roc_auc_score, rec.roc_auc_score))\n",
    "    "
   ]
  },
  {
   "cell_type": "markdown",
   "metadata": {},
   "source": [
    "### Gap filling and recostruction correlation"
   ]
  },
  {
   "cell_type": "code",
   "execution_count": 11,
   "metadata": {},
   "outputs": [
    {
     "name": "stdout",
     "output_type": "stream",
     "text": [
      "General\n",
      "Pearson\n",
      "ACC  (0.482895338644168, 2.326397636045051e-08)\n",
      "PRC  (-0.5134980133064615, 2.0039036190860594e-09)\n",
      "ROC  (-0.20785939520592472, 0.02272097597082698)\n",
      "Spearmanr\n",
      "ACC  SpearmanrResult(correlation=0.19855545523994717, pvalue=0.02970560894212244)\n",
      "PRC  SpearmanrResult(correlation=-0.4071463296062226, pvalue=3.931990884368521e-06)\n",
      "ROC  SpearmanrResult(correlation=-0.09129800680602819, pvalue=0.3213319885539175)\n",
      "\n",
      "\n",
      "all_nucleotides\n",
      "Pearson\n",
      "ACC  (-0.08501791437050782, 0.6928553591011505)\n",
      "PRC  (-0.6566630954882765, 0.0004915147884109693)\n",
      "ROC  (-0.15275313758830594, 0.47610295879266495)\n",
      "Spearmanr\n",
      "ACC  SpearmanrResult(correlation=-0.10695652173913042, pvalue=0.6188809974331805)\n",
      "PRC  SpearmanrResult(correlation=-0.38956521739130434, pvalue=0.059875479374870595)\n",
      "ROC  SpearmanrResult(correlation=0.07826086956521738, pvalue=0.7162392905010877)\n",
      "\n",
      "\n",
      "adenine\n",
      "Pearson\n",
      "ACC  (-0.6960337936053477, 0.00015864120971077322)\n",
      "PRC  (-0.8182573084594442, 1.034175641023154e-06)\n",
      "ROC  (-0.7151842408931849, 8.571675940645791e-05)\n",
      "Spearmanr\n",
      "ACC  SpearmanrResult(correlation=-0.6660869565217391, pvalue=0.00038058316640382056)\n",
      "PRC  SpearmanrResult(correlation=-0.4956521739130434, pvalue=0.013778010050266383)\n",
      "ROC  SpearmanrResult(correlation=-0.4626086956521739, pvalue=0.022833034205313595)\n",
      "\n",
      "\n",
      "cytosine\n",
      "Pearson\n",
      "ACC  (-0.6954076235032883, 0.0001617399261102242)\n",
      "PRC  (-0.5761792218825883, 0.0032117755044782014)\n",
      "ROC  (0.006459318604546634, 0.9761029527759886)\n",
      "Spearmanr\n",
      "ACC  SpearmanrResult(correlation=-0.5382608695652172, pvalue=0.006661450969899973)\n",
      "PRC  SpearmanrResult(correlation=-0.37130434782608696, pvalue=0.0740352796389887)\n",
      "ROC  SpearmanrResult(correlation=0.26086956521739124, pvalue=0.21823795857184675)\n",
      "\n",
      "\n",
      "thymine\n",
      "Pearson\n",
      "ACC  (-0.8635703204028632, 5.512103524203497e-08)\n",
      "PRC  (-0.6709182656681152, 0.0003326584446957805)\n",
      "ROC  (-0.5008698393824622, 0.012665222458073621)\n",
      "Spearmanr\n",
      "ACC  SpearmanrResult(correlation=-0.8208695652173912, pvalue=8.934346201224865e-07)\n",
      "PRC  SpearmanrResult(correlation=-0.37043478260869556, pvalue=0.0747679168688463)\n",
      "ROC  SpearmanrResult(correlation=-0.31478260869565217, pvalue=0.13408706839947862)\n",
      "\n",
      "\n",
      "guanine\n",
      "Pearson\n",
      "ACC  (-0.6252724476744573, 0.001086217399651187)\n",
      "PRC  (-0.4810554552425056, 0.017323707740438957)\n",
      "ROC  (0.013248161496437219, 0.9510086383794131)\n",
      "Spearmanr\n",
      "ACC  SpearmanrResult(correlation=-0.5191304347826087, pvalue=0.009336095584399826)\n",
      "PRC  SpearmanrResult(correlation=-0.3095652173913043, pvalue=0.1410114671131046)\n",
      "ROC  SpearmanrResult(correlation=0.21826086956521737, pvalue=0.30555439158449416)\n"
     ]
    }
   ],
   "source": [
    "print(\"General\")\n",
    "analyze(df_cae)\n",
    "for target in df_cae.target.unique():\n",
    "    print(\"\\n\\n\" + target)\n",
    "    analyze(df_cae, target)"
   ]
  },
  {
   "cell_type": "markdown",
   "metadata": {},
   "source": [
    "### Window size and performance correlation"
   ]
  },
  {
   "cell_type": "code",
   "execution_count": 12,
   "metadata": {
    "scrolled": true
   },
   "outputs": [
    {
     "name": "stdout",
     "output_type": "stream",
     "text": [
      "ACC  (-0.7330026769680871, 1.7781647645197916e-21)\n",
      "PRC  (-0.9842769769597799, 1.0617138059679294e-90)\n",
      "ROC  (-0.9911752004941152, 2.055458957569254e-105)\n",
      "ACC  SpearmanrResult(correlation=-0.8355935272699719, pvalue=1.7521187725128724e-32)\n",
      "PRC  SpearmanrResult(correlation=-0.9428417797122391, pvalue=3.7639250348813904e-58)\n",
      "ROC  SpearmanrResult(correlation=-0.9428417797122391, pvalue=3.7639250348813904e-58)\n"
     ]
    }
   ],
   "source": [
    "rec = df_cae[df_cae.task == \"reconstruction\"]\n",
    "print(\"ACC \", scipy.stats.pearsonr(rec.window_size, rec.accuracy_score))\n",
    "print(\"PRC \", scipy.stats.pearsonr(rec.window_size, rec.average_precision_score))\n",
    "print(\"ROC \", scipy.stats.pearsonr(rec.window_size, rec.roc_auc_score))\n",
    "print(\"ACC \", scipy.stats.spearmanr(rec.window_size, rec.accuracy_score))\n",
    "print(\"PRC \", scipy.stats.spearmanr(rec.window_size, rec.average_precision_score))\n",
    "print(\"ROC \", scipy.stats.spearmanr(rec.window_size, rec.roc_auc_score))"
   ]
  },
  {
   "cell_type": "code",
   "execution_count": 22,
   "metadata": {},
   "outputs": [
    {
     "name": "stdout",
     "output_type": "stream",
     "text": [
      "ACC  (0.05559562305494252, 0.5464343780139739)\n",
      "PRC  (0.6323842687836272, 9.410166136519479e-15)\n",
      "ROC  (0.29261550365622535, 0.001182024110632261)\n",
      "ACC  SpearmanrResult(correlation=0.25839757525238555, pvalue=0.004378300652845834)\n",
      "PRC  SpearmanrResult(correlation=0.5636426014342228, pvalue=2.0484615366196184e-11)\n",
      "ROC  SpearmanrResult(correlation=0.19740749762725004, pvalue=0.030682167816496086)\n"
     ]
    }
   ],
   "source": [
    "gaps = df_cae[df_cae.task == \"gap_filling\"]\n",
    "print(\"ACC \", scipy.stats.pearsonr(gaps.window_size, gaps.accuracy_score))\n",
    "print(\"PRC \", scipy.stats.pearsonr(gaps.window_size, gaps.average_precision_score))\n",
    "print(\"ROC \", scipy.stats.pearsonr(gaps.window_size, gaps.roc_auc_score))\n",
    "print(\"ACC \", scipy.stats.spearmanr(gaps.window_size, gaps.accuracy_score))\n",
    "print(\"PRC \", scipy.stats.spearmanr(gaps.window_size, gaps.average_precision_score))\n",
    "print(\"ROC \", scipy.stats.spearmanr(gaps.window_size, gaps.roc_auc_score))"
   ]
  },
  {
   "cell_type": "markdown",
   "metadata": {},
   "source": [
    "# CNN analysis"
   ]
  },
  {
   "cell_type": "code",
   "execution_count": 16,
   "metadata": {},
   "outputs": [],
   "source": [
    "df_cnn = df[df.model_type == \"cnn\"]"
   ]
  },
  {
   "cell_type": "markdown",
   "metadata": {},
   "source": [
    "### Window size and performance correlation"
   ]
  },
  {
   "cell_type": "code",
   "execution_count": 17,
   "metadata": {},
   "outputs": [
    {
     "name": "stdout",
     "output_type": "stream",
     "text": [
      "ACC  (0.02621780038693372, 0.776223122135287)\n",
      "PRC  (0.028982130532245944, 0.7533491853906168)\n",
      "ROC  (0.04773408034671381, 0.6046517145993185)\n",
      "ACC  SpearmanrResult(correlation=0.0026517563176666455, pvalue=0.9770683378676717)\n",
      "PRC  SpearmanrResult(correlation=-0.11490884190242913, pvalue=0.21139742045523957)\n",
      "ROC  SpearmanrResult(correlation=-0.02622278699824665, pvalue=0.7761816799226504)\n"
     ]
    }
   ],
   "source": [
    "gaps = df_cnn[df_cnn.task == \"gap_filling\"]\n",
    "print(\"ACC \", scipy.stats.pearsonr(gaps.window_size, gaps.accuracy_score))\n",
    "print(\"PRC \", scipy.stats.pearsonr(gaps.window_size, gaps.average_precision_score))\n",
    "print(\"ROC \", scipy.stats.pearsonr(gaps.window_size, gaps.roc_auc_score))\n",
    "print(\"ACC \", scipy.stats.spearmanr(gaps.window_size, gaps.accuracy_score))\n",
    "print(\"PRC \", scipy.stats.spearmanr(gaps.window_size, gaps.average_precision_score))\n",
    "print(\"ROC \", scipy.stats.spearmanr(gaps.window_size, gaps.roc_auc_score))"
   ]
  },
  {
   "cell_type": "code",
   "execution_count": null,
   "metadata": {},
   "outputs": [],
   "source": []
  }
 ],
 "metadata": {
  "kernelspec": {
   "display_name": "Python 3",
   "language": "python",
   "name": "python3"
  },
  "language_info": {
   "codemirror_mode": {
    "name": "ipython",
    "version": 3
   },
   "file_extension": ".py",
   "mimetype": "text/x-python",
   "name": "python",
   "nbconvert_exporter": "python",
   "pygments_lexer": "ipython3",
   "version": "3.7.4"
  }
 },
 "nbformat": 4,
 "nbformat_minor": 2
}
