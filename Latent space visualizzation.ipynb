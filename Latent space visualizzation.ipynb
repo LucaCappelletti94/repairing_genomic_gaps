{
 "cells": [
  {
   "cell_type": "code",
   "execution_count": 1,
   "metadata": {},
   "outputs": [],
   "source": [
    "import os\n",
    "import numpy as np\n",
    "from tsnecuda import TSNE\n",
    "from tqdm.auto import tqdm\n",
    "from cache_decorator import Cache\n",
    "from sklearn.preprocessing import StandardScaler\n",
    "from repairing_genomic_gaps import build_multivariate_dataset_cae, get_model_weights_path\n",
    "from repairing_genomic_gaps import cae_1000"
   ]
  },
  {
   "cell_type": "markdown",
   "metadata": {},
   "source": [
    "# Latent space rendering"
   ]
  },
  {
   "cell_type": "code",
   "execution_count": 2,
   "metadata": {
    "scrolled": true
   },
   "outputs": [],
   "source": [
    "@Cache()\n",
    "def build_latent(model):\n",
    "    # Load the model\n",
    "    model = globals()[model]\n",
    "    auto, enc, dec = model(return_encoder_and_decoder=True, verbose=False)\n",
    "    \n",
    "    # Load the weights\n",
    "    path = get_model_weights_path(auto, \"./multivariate_gaps\")\n",
    "    if os.path.exists(path):\n",
    "        auto.load_weights(path)\n",
    "        print(\"Old Weights loaded from {}\".format(path))\n",
    "    ## Already tested that if we load the weights for auto\n",
    "    ## the weights changes also for enc and dec\n",
    "    \n",
    "    # Load the dataset\n",
    "    train, test = build_multivariate_dataset_cae(1000)\n",
    "    # Render the latent space\n",
    "    latent = np.array([\n",
    "        enc.predict(point)\n",
    "        for batch in tqdm(train, desc=\"Rendering the latent space\")\n",
    "        for point in batch\n",
    "    ])\n",
    "    return latent"
   ]
  },
  {
   "cell_type": "code",
   "execution_count": null,
   "metadata": {},
   "outputs": [],
   "source": [
    "latent = build_latent(\"cae_1000\")"
   ]
  },
  {
   "cell_type": "markdown",
   "metadata": {},
   "source": [
    "# Latent space normalizzation"
   ]
  },
  {
   "cell_type": "code",
   "execution_count": null,
   "metadata": {},
   "outputs": [],
   "source": [
    "normalized_latent = StandardScaler().fit_transform(latent)"
   ]
  },
  {
   "cell_type": "markdown",
   "metadata": {},
   "source": [
    "# TSNE rendering"
   ]
  },
  {
   "cell_type": "code",
   "execution_count": 3,
   "metadata": {},
   "outputs": [],
   "source": [
    "@Cache()\n",
    "def build_tsne(latent, n_components=2):\n",
    "    embeddedX = TSNE(n_components=n_components).fit_transform(latent)\n",
    "    return embeddedX"
   ]
  },
  {
   "cell_type": "code",
   "execution_count": null,
   "metadata": {},
   "outputs": [
    {
     "name": "stdout",
     "output_type": "stream",
     "text": [
      "Old Weights loaded from ./multivariate_gaps/cae_1000/best_weights_cae_1000.hdf5\n"
     ]
    },
    {
     "data": {
      "application/vnd.jupyter.widget-view+json": {
       "model_id": "da6b8d973a0649a28f1194ad0e412377",
       "version_major": 2,
       "version_minor": 0
      },
      "text/plain": [
       "HBox(children=(IntProgress(value=0, description='Rendering the latent space', max=2646, style=ProgressStyle(de…"
      ]
     },
     "metadata": {},
     "output_type": "display_data"
    }
   ],
   "source": [
    "t = build_tsne(normalized_latent)"
   ]
  },
  {
   "cell_type": "markdown",
   "metadata": {},
   "source": [
    "# TSNE visualizzation"
   ]
  },
  {
   "cell_type": "markdown",
   "metadata": {},
   "source": [
    "# PCA rendering"
   ]
  },
  {
   "cell_type": "markdown",
   "metadata": {},
   "source": [
    "# PCA visualizzation"
   ]
  },
  {
   "cell_type": "code",
   "execution_count": null,
   "metadata": {},
   "outputs": [],
   "source": []
  }
 ],
 "metadata": {
  "kernelspec": {
   "display_name": "Python 3",
   "language": "python",
   "name": "python3"
  },
  "language_info": {
   "codemirror_mode": {
    "name": "ipython",
    "version": 3
   },
   "file_extension": ".py",
   "mimetype": "text/x-python",
   "name": "python",
   "nbconvert_exporter": "python",
   "pygments_lexer": "ipython3",
   "version": "3.7.4"
  }
 },
 "nbformat": 4,
 "nbformat_minor": 2
}
